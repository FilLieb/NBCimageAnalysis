{
 "cells": [
  {
   "cell_type": "code",
   "id": "initial_id",
   "metadata": {
    "collapsed": true
   },
   "source": [
    "from matplotlib import pyplot as plt\n",
    "from aicsimageio import AICSImage\n",
    "from skimage import filters\n",
    "from skimage.filters import try_all_threshold, gaussian, difference_of_gaussians\n",
    "from skimage.morphology import disk\n",
    "from skimage.restoration import rolling_ball\n",
    "import numpy as np\n",
    "\n",
    "from scripts_for_testing.setup_quanti import denoised"
   ],
   "outputs": [],
   "execution_count": null
  },
  {
   "metadata": {},
   "cell_type": "code",
   "source": [
    "img = AICSImage('../data/group3/020525488MAP2546Gephyrin647Tom20Gr3 CNTRL_Region1 Gepyhrin.tif')\n",
    "data = img.get_image_data(\"TCZYX\")  # Choose the correct dimension order\n",
    "data.shape\n",
    "\n"
   ],
   "id": "d8031db59f8a6056",
   "outputs": [],
   "execution_count": null
  },
  {
   "metadata": {},
   "cell_type": "code",
   "source": [
    "# Pick the first timepoint and z-slice\n",
    "t_index = 0\n",
    "z_index = 0\n",
    "\n",
    "# Extract each channel slice (4 channels)\n",
    "dapi = data[t_index, z_index, 0,  :, :]\n",
    "map2 = data[t_index, z_index, 1,  :, :]\n",
    "gphn = data[t_index, z_index, 2,  :, :]\n",
    "tom20 = data[t_index, z_index, 3,  :, :]\n",
    "\n",
    "# make a quick figure to display individual channels\n",
    "fig, axes = plt.subplots(2, 2, figsize=(12, 12))\n",
    "\n",
    "axes[0,0].imshow(dapi, cmap='gray')\n",
    "axes[0,0].set_title(\"DAPI\")\n",
    "\n",
    "axes[0,1].imshow(map2, cmap='gray')\n",
    "axes[0,1].set_title(\"MAP2\")\n",
    "\n",
    "axes[1,0].imshow(gphn, cmap='gray')\n",
    "axes[1,0].set_title(\"gephyrin\")\n",
    "\n",
    "axes[1,1].imshow(tom20, cmap='gray')\n",
    "axes[1,1].set_title(\"Tom20\")\n",
    "\n",
    "plt.tight_layout()\n",
    "plt.show()"
   ],
   "id": "156acd798a129f55",
   "outputs": [],
   "execution_count": null
  },
  {
   "metadata": {},
   "cell_type": "code",
   "source": [
    "def threshold_all(image):\n",
    "    return try_all_threshold(image, figsize=(10, 8), verbose=False)\n",
    "\n",
    "threshold_all(map2)\n",
    "plt.show()"
   ],
   "id": "c0b561e61dd86966",
   "outputs": [],
   "execution_count": null
  },
  {
   "metadata": {},
   "cell_type": "code",
   "source": [
    "denoised = gaussian(map2, sigma=2, preserve_range=True)\n",
    "threshold_map2 = filters.threshold_otsu(denoised)\n",
    "binary_map2 = denoised >= threshold_map2"
   ],
   "id": "5de998be249c7ce5",
   "outputs": [],
   "execution_count": null
  },
  {
   "metadata": {},
   "cell_type": "code",
   "source": [
    "# make a quick figure to display individual channels\n",
    "fig, axes = plt.subplots(1, 2, figsize=(12, 12))\n",
    "\n",
    "axes[0].imshow(map2, cmap='gray')\n",
    "axes[0].set_title(\"original\")\n",
    "\n",
    "axes[1].imshow(binary_map2, cmap='gray')\n",
    "axes[1].set_title(\"binary\")\n",
    "\n",
    "plt.show()"
   ],
   "id": "b755209b4c4bba3",
   "outputs": [],
   "execution_count": null
  },
  {
   "metadata": {},
   "cell_type": "code",
   "source": [
    "dog = difference_of_gaussians(gphn, 1, 10)\n",
    "background_rolling = rolling_ball(gphn, radius=10)\n",
    "rolling = gphn - background_rolling\n",
    "dog_roll = difference_of_gaussians(rolling, 1, 10)\n",
    "\n",
    "\n",
    "fig, axes = plt.subplots(1, 3, figsize=(12, 12))\n",
    "\n",
    "axes[0].imshow(dog_roll, cmap='gray')\n",
    "axes[0].set_title(\"roll-DoG\")\n",
    "\n",
    "axes[1].imshow(dog, cmap='gray')\n",
    "axes[1].set_title(\"DoG\")\n",
    "\n",
    "axes[2].imshow(rolling, cmap='gray')\n",
    "axes[2].set_title(\"rolling ball\")\n",
    "\n",
    "plt.show()\n",
    "\n"
   ],
   "id": "2bbe628b4a3761a",
   "outputs": [],
   "execution_count": null
  },
  {
   "metadata": {},
   "cell_type": "code",
   "source": [
    "threshold_all(dog_roll)\n",
    "plt.show()"
   ],
   "id": "e6ae0ca9c93dffc2",
   "outputs": [],
   "execution_count": null
  },
  {
   "metadata": {},
   "cell_type": "code",
   "source": [
    "threshold_gphn = filters.threshold_triangle(dog_roll)\n",
    "binary_gphn = dog_roll >= threshold_gphn\n",
    "\n",
    "# make a quick figure to display individual channels\n",
    "fig, axes = plt.subplots(1, 2, figsize=(12, 12))\n",
    "\n",
    "axes[0].imshow(gphn, cmap='gray')\n",
    "axes[0].set_title(\"original\")\n",
    "\n",
    "axes[1].imshow(binary_gphn, cmap='gray')\n",
    "axes[1].set_title(\"binary\")\n",
    "\n",
    "plt.show()"
   ],
   "id": "d4669babf5843901",
   "outputs": [],
   "execution_count": null
  }
 ],
 "metadata": {
  "kernelspec": {
   "display_name": "Python 3",
   "language": "python",
   "name": "python3"
  },
  "language_info": {
   "codemirror_mode": {
    "name": "ipython",
    "version": 2
   },
   "file_extension": ".py",
   "mimetype": "text/x-python",
   "name": "python",
   "nbconvert_exporter": "python",
   "pygments_lexer": "ipython2",
   "version": "2.7.6"
  }
 },
 "nbformat": 4,
 "nbformat_minor": 5
}
