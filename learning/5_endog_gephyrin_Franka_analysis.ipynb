{
 "cells": [
  {
   "metadata": {},
   "cell_type": "code",
   "source": "pip install pyclesperanto-prototype==0.24.5",
   "id": "921ee53d1c106ab0",
   "outputs": [],
   "execution_count": null
  },
  {
   "metadata": {},
   "cell_type": "code",
   "source": "pip install openpyxl",
   "id": "b44b33842e189f36",
   "outputs": [],
   "execution_count": null
  },
  {
   "metadata": {},
   "cell_type": "code",
   "source": [
    "from aicsimageio import AICSImage\n",
    "\n",
    "from skimage import filters, measure\n",
    "from skimage.filters import gaussian, difference_of_gaussians\n",
    "from skimage.restoration import rolling_ball\n",
    "from skimage.measure import label\n",
    "\n",
    "from pyclesperanto_prototype import imshow\n",
    "import pyclesperanto_prototype as cle\n",
    "\n",
    "from matplotlib import pyplot as plt\n",
    "import pandas as pd\n",
    "import numpy as np\n",
    "import openpyxl\n"
   ],
   "id": "initial_id",
   "outputs": [],
   "execution_count": null
  },
  {
   "metadata": {},
   "cell_type": "code",
   "source": [
    "img = AICSImage('../data/group3/020525488MAP2546Gephyrin647Tom20Gr3 CNTRL_Region1 Gepyhrin.tif')\n",
    "data = img.get_image_data(\"TCZYX\")  # Choose the correct dimension order\n"
   ],
   "id": "d8031db59f8a6056",
   "outputs": [],
   "execution_count": null
  },
  {
   "metadata": {},
   "cell_type": "code",
   "source": [
    "# Pick the first timepoint and z-slice\n",
    "t_index = 0\n",
    "z_index = 0\n",
    "\n",
    "# Extract each channel slice (4 channels)\n",
    "dapi = data[t_index, z_index, 0,  :, :]\n",
    "map2 = data[t_index, z_index, 1,  :, :]\n",
    "gphn = data[t_index, z_index, 2,  :, :]\n",
    "tom20 = data[t_index, z_index, 3,  :, :]"
   ],
   "id": "156acd798a129f55",
   "outputs": [],
   "execution_count": null
  },
  {
   "metadata": {},
   "cell_type": "code",
   "source": [
    "def threshold_map2(image):\n",
    "    denoised = gaussian(image, sigma=2, preserve_range=True)\n",
    "    threshold = filters.threshold_otsu(denoised)\n",
    "    binary_image = denoised >= threshold\n",
    "    return binary_image\n",
    "\n",
    "def threshold_gphn(image):\n",
    "    background_rolling = rolling_ball(image, radius=10)\n",
    "    rolling = image - background_rolling\n",
    "    dog_roll = difference_of_gaussians(rolling, 1, 10)\n",
    "    threshold_gphn = filters.threshold_triangle(dog_roll)\n",
    "    binary_gphn = dog_roll >= threshold_gphn\n",
    "    return binary_gphn\n"
   ],
   "id": "5de998be249c7ce5",
   "outputs": [],
   "execution_count": null
  },
  {
   "metadata": {},
   "cell_type": "code",
   "source": [
    "binary_map2 = threshold_map2(map2)\n",
    "labeled_map2 = label(binary_map2)\n",
    "\n",
    "binary_gphn = threshold_gphn(gphn)\n",
    "labeled_gphn = label(binary_gphn)\n",
    "\n",
    "fig, axes = plt.subplots(1, 2, figsize=(12, 12))\n",
    "\n",
    "axes[0].imshow(binary_map2, cmap='gray')\n",
    "axes[0].set_title(\"MAP2\")\n",
    "\n",
    "axes[1].imshow(binary_gphn, cmap='gray')\n",
    "axes[1].set_title(\"gephyrin\")\n",
    "\n",
    "plt.show()\n"
   ],
   "id": "fd63c226b5d4937d",
   "outputs": [],
   "execution_count": null
  },
  {
   "metadata": {},
   "cell_type": "code",
   "source": [
    "labeled_map2 = label(binary_map2)\n",
    "imshow(labeled_map2, labels=True)"
   ],
   "id": "df3c186b730e5f3d",
   "outputs": [],
   "execution_count": null
  },
  {
   "metadata": {},
   "cell_type": "code",
   "source": [
    "labeled_gphn = label(binary_gphn)\n",
    "imshow(labeled_gphn, labels=True)"
   ],
   "id": "f0e80af51bce37f3",
   "outputs": [],
   "execution_count": null
  },
  {
   "metadata": {},
   "cell_type": "code",
   "source": [
    "def get_voxel_size_from_aics_image(aics_image):\n",
    "    return (aics_image.physical_pixel_sizes.Z,\n",
    "            aics_image.physical_pixel_sizes.Y,\n",
    "            aics_image.physical_pixel_sizes.X)\n",
    "\n",
    "voxel = get_voxel_size_from_aics_image(img)\n",
    "\n",
    "properties_gphn = measure.regionprops(labeled_gphn, intensity_image=gphn)\n",
    "num_gphn = labeled_gphn.max()\n",
    "properties_map2 = measure.regionprops(labeled_map2, intensity_image=map2)\n",
    "map2_area_total = np.sum([p.area*voxel[1]*voxel[2] for p in properties_map2])\n",
    "\n",
    "statistics = {\n",
    "    'area_gphn':[p.area*voxel[1]*voxel[2] for p in properties_gphn],\n",
    "    'intensity_gphn':[p.mean_intensity    for p in properties_gphn],\n",
    "    'num_gphn':[num_gphn for p in properties_gphn],\n",
    "    'area_map2_total':[map2_area_total*voxel[1]*voxel[2] for p in properties_gphn],\n",
    "}\n",
    "\n",
    "df = pd.DataFrame(statistics)\n",
    "df"
   ],
   "id": "bb2ddac982690613",
   "outputs": [],
   "execution_count": null
  },
  {
   "metadata": {},
   "cell_type": "code",
   "source": [
    "column_mean = df.mean()\n",
    "\n",
    "# creating additional info\n",
    "num_gphn_per_area = column_mean['num_gphn']/column_mean['area_map2_total']\n",
    "\n",
    "image_name = '020525488MAP2546Gephyrin647Tom20Gr3 CNTRL_Region1 Gepyhrin.tif'\n",
    "word = 'CNTRL'\n",
    "if word in image_name:\n",
    "    condition = 'CNTRL'\n",
    "else:\n",
    "    condition = 'Antimycin A'\n",
    "\n",
    "result = {\n",
    "    'area_gphn': [column_mean['area_gphn']],\n",
    "    'intensity_gphn': [column_mean['intensity_gphn']],\n",
    "    'num_gphn': [column_mean['num_gphn']],\n",
    "    'area_map2_total': [column_mean['area_map2_total']],\n",
    "    'num_gphn_per_area': [num_gphn_per_area],\n",
    "    'image': [image_name],\n",
    "    'condition': [condition]\n",
    "}\n",
    "\n",
    "dr = pd.DataFrame(result)\n",
    "dr"
   ],
   "id": "6e182fcdf95bc73d",
   "outputs": [],
   "execution_count": null
  },
  {
   "metadata": {},
   "cell_type": "code",
   "source": "dr.to_excel(\"gphn_analysis.xlsx\")",
   "id": "c96458d6f0f2d732",
   "outputs": [],
   "execution_count": null
  }
 ],
 "metadata": {
  "kernelspec": {
   "display_name": "Python 3",
   "language": "python",
   "name": "python3"
  },
  "language_info": {
   "codemirror_mode": {
    "name": "ipython",
    "version": 2
   },
   "file_extension": ".py",
   "mimetype": "text/x-python",
   "name": "python",
   "nbconvert_exporter": "python",
   "pygments_lexer": "ipython2",
   "version": "2.7.6"
  }
 },
 "nbformat": 4,
 "nbformat_minor": 5
}
