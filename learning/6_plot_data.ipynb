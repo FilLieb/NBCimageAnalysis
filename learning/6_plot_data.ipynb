{
 "cells": [
  {
   "cell_type": "code",
   "id": "initial_id",
   "metadata": {
    "collapsed": true
   },
   "source": [
    "import matplotlib.pyplot as plt\n",
    "import pandas as pd\n"
   ],
   "outputs": [],
   "execution_count": null
  },
  {
   "metadata": {},
   "cell_type": "code",
   "source": [
    "file = pd.read_excel('../data/group3/ClusterAnalysis_All.xlsx')\n",
    "file"
   ],
   "id": "ca688f8e42bc20bf",
   "outputs": [],
   "execution_count": null
  },
  {
   "metadata": {},
   "cell_type": "code",
   "source": [
    "plt.scatter(file['condition'], file['area_gphn'])\n",
    "plt.ylabel(\"gephyrin area [µm^2]\")\n",
    "plt.show()"
   ],
   "id": "5aa79b3521d85353",
   "outputs": [],
   "execution_count": null
  },
  {
   "metadata": {},
   "cell_type": "code",
   "source": [
    "plt.scatter(file['condition'], file['intensity_gphn'])\n",
    "plt.ylabel(\"gephyrin intensity [a.u.]\")\n",
    "plt.show()"
   ],
   "id": "a74cae00129a69fe",
   "outputs": [],
   "execution_count": null
  },
  {
   "metadata": {},
   "cell_type": "code",
   "source": [
    "plt.scatter(file['condition'], file['area_map2_total'])\n",
    "plt.ylabel(\"MAP2 area [µm^2]\")\n",
    "plt.show()"
   ],
   "id": "268434117e957d29",
   "outputs": [],
   "execution_count": null
  },
  {
   "metadata": {},
   "cell_type": "code",
   "source": [
    "plt.scatter(file['condition'], file['num_gphn_per_area'])\n",
    "plt.ylabel(\"num of gephyrin clusters [µm^-2]\")\n",
    "plt.show()"
   ],
   "id": "3aef5628d7b3ed92",
   "outputs": [],
   "execution_count": null
  }
 ],
 "metadata": {
  "kernelspec": {
   "display_name": "Python 3",
   "language": "python",
   "name": "python3"
  },
  "language_info": {
   "codemirror_mode": {
    "name": "ipython",
    "version": 2
   },
   "file_extension": ".py",
   "mimetype": "text/x-python",
   "name": "python",
   "nbconvert_exporter": "python",
   "pygments_lexer": "ipython2",
   "version": "2.7.6"
  }
 },
 "nbformat": 4,
 "nbformat_minor": 5
}
