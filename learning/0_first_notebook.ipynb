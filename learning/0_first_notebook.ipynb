{
 "cells": [
  {
   "cell_type": "code",
   "id": "initial_id",
   "metadata": {
    "collapsed": true,
    "ExecuteTime": {
     "end_time": "2025-05-06T20:13:54.784346Z",
     "start_time": "2025-05-06T20:13:54.765855Z"
    }
   },
   "source": "print('Hello World')",
   "outputs": [
    {
     "name": "stdout",
     "output_type": "stream",
     "text": [
      "Hello World\n"
     ]
    }
   ],
   "execution_count": 2
  },
  {
   "metadata": {},
   "cell_type": "markdown",
   "source": "conditional statements",
   "id": "592ec4e67b414d85"
  },
  {
   "metadata": {
    "ExecuteTime": {
     "end_time": "2025-05-06T20:16:11.132949Z",
     "start_time": "2025-05-06T20:16:11.117319Z"
    }
   },
   "cell_type": "code",
   "source": [
    "if 3 < 4:\n",
    "    print(\"Math is great\")"
   ],
   "id": "26ad7f3942d96287",
   "outputs": [
    {
     "name": "stdout",
     "output_type": "stream",
     "text": [
      "Math is great\n"
     ]
    }
   ],
   "execution_count": 4
  },
  {
   "metadata": {
    "ExecuteTime": {
     "end_time": "2025-05-06T20:19:16.269984Z",
     "start_time": "2025-05-06T20:19:16.261753Z"
    }
   },
   "cell_type": "code",
   "source": [
    "animals = ['cat', 'dog', 'mouse']\n",
    "\n",
    "if 'cat' in animals:\n",
    "    print('Our list of animals contains a cat')"
   ],
   "id": "951bfc400151cedf",
   "outputs": [
    {
     "name": "stdout",
     "output_type": "stream",
     "text": [
      "Our list of animals contains a cat\n"
     ]
    }
   ],
   "execution_count": 5
  },
  {
   "metadata": {
    "ExecuteTime": {
     "end_time": "2025-05-06T20:19:21.426590Z",
     "start_time": "2025-05-06T20:19:21.410515Z"
    }
   },
   "cell_type": "code",
   "source": [
    "filename = \"cells.tif\"\n",
    "\n",
    "if filename.endswith(\"tif\"):\n",
    "    print(\"The file is an image!\")"
   ],
   "id": "6c0aa925216ad9fc",
   "outputs": [
    {
     "name": "stdout",
     "output_type": "stream",
     "text": [
      "The file is an image!\n"
     ]
    }
   ],
   "execution_count": 6
  },
  {
   "metadata": {
    "ExecuteTime": {
     "end_time": "2025-05-06T20:20:11.602740Z",
     "start_time": "2025-05-06T20:20:11.584639Z"
    }
   },
   "cell_type": "code",
   "source": [
    "quality_in_percent = 89\n",
    "\n",
    "if quality_in_percent > 90:\n",
    "    print(\"Our quality is high enough.\")\n",
    "else:\n",
    "    print(\"We need to improve our quality.\")"
   ],
   "id": "9b18fc8bfc4ea744",
   "outputs": [
    {
     "name": "stdout",
     "output_type": "stream",
     "text": [
      "We need to improve our quality.\n"
     ]
    }
   ],
   "execution_count": 7
  },
  {
   "metadata": {
    "ExecuteTime": {
     "end_time": "2025-05-06T20:20:37.268262Z",
     "start_time": "2025-05-06T20:20:37.250611Z"
    }
   },
   "cell_type": "code",
   "source": [
    "# determining the exam grade depending on\n",
    "number_of_correct_points = 23\n",
    "number_of_total_points = 30\n",
    "\n",
    "# compute percentage\n",
    "percentage = number_of_correct_points / number_of_total_points * 100\n",
    "\n",
    "if percentage > 95:\n",
    "    grade = 1\n",
    "elif percentage > 80:\n",
    "    grade = 2\n",
    "elif percentage > 60:\n",
    "    grade = 3\n",
    "elif percentag > 50:\n",
    "    grade = 4\n",
    "else:\n",
    "    grade = 5\n",
    "\n",
    "print(\"You scored\", number_of_correct_points, \"out of\", number_of_total_points)\n",
    "print(\"Your grade is\", grade)"
   ],
   "id": "b1fdffec0b7946ad",
   "outputs": [
    {
     "name": "stdout",
     "output_type": "stream",
     "text": [
      "You scored 23 out of 30\n",
      "Your grade is 3\n"
     ]
    }
   ],
   "execution_count": 8
  },
  {
   "metadata": {},
   "cell_type": "markdown",
   "source": "for loops",
   "id": "f7fff394bc6c8db6"
  },
  {
   "metadata": {
    "ExecuteTime": {
     "end_time": "2025-05-06T20:23:04.826689Z",
     "start_time": "2025-05-06T20:23:04.808991Z"
    }
   },
   "cell_type": "code",
   "source": [
    "for i in range(0, 5):\n",
    "    print(i)"
   ],
   "id": "ec13d1fd4d0d7186",
   "outputs": [
    {
     "name": "stdout",
     "output_type": "stream",
     "text": [
      "0\n",
      "1\n",
      "2\n",
      "3\n",
      "4\n"
     ]
    }
   ],
   "execution_count": 9
  },
  {
   "metadata": {
    "ExecuteTime": {
     "end_time": "2025-05-06T20:23:35.676210Z",
     "start_time": "2025-05-06T20:23:35.658569Z"
    }
   },
   "cell_type": "code",
   "source": [
    "for animal in [\"Dog\", \"Cat\", \"Mouse\"]:\n",
    "    print(animal)"
   ],
   "id": "f586ce7ef4c63541",
   "outputs": [
    {
     "name": "stdout",
     "output_type": "stream",
     "text": [
      "Dog\n",
      "Cat\n",
      "Mouse\n"
     ]
    }
   ],
   "execution_count": 10
  },
  {
   "metadata": {},
   "cell_type": "code",
   "outputs": [],
   "execution_count": null,
   "source": [
    "# we start with an empty list\n",
    "numbers = []\n",
    "\n",
    "# and add elements\n",
    "for i in range(0, 5):\n",
    "    numbers.append(i * 2)\n",
    "\n",
    "print(numbers)"
   ],
   "id": "db73b931b6e0fbd1"
  },
  {
   "metadata": {},
   "cell_type": "markdown",
   "source": "while loops",
   "id": "e0cfb450203e50fe"
  },
  {
   "metadata": {},
   "cell_type": "code",
   "outputs": [],
   "execution_count": null,
   "source": [
    "number = 1024\n",
    "\n",
    "while (number > 1):\n",
    "    number = number / 2\n",
    "    print(number)"
   ],
   "id": "1f6790daec9abd51"
  },
  {
   "metadata": {},
   "cell_type": "markdown",
   "source": "functions",
   "id": "e23bd2e5f5c5ed07"
  },
  {
   "metadata": {
    "ExecuteTime": {
     "end_time": "2025-05-06T20:27:20.690157Z",
     "start_time": "2025-05-06T20:27:20.684124Z"
    }
   },
   "cell_type": "code",
   "source": [
    "def sum_numbers(a, b):\n",
    "\n",
    "    result = a + b\n",
    "\n",
    "    return result"
   ],
   "id": "61f17e05852763e1",
   "outputs": [],
   "execution_count": 11
  },
  {
   "metadata": {
    "ExecuteTime": {
     "end_time": "2025-05-06T20:27:22.141479Z",
     "start_time": "2025-05-06T20:27:22.112321Z"
    }
   },
   "cell_type": "code",
   "source": "sum_numbers(3, 4)",
   "id": "f430cd3d5c59a5e5",
   "outputs": [
    {
     "data": {
      "text/plain": [
       "7"
      ]
     },
     "execution_count": 12,
     "metadata": {},
     "output_type": "execute_result"
    }
   ],
   "execution_count": 12
  },
  {
   "metadata": {
    "ExecuteTime": {
     "end_time": "2025-05-06T20:30:59.612533Z",
     "start_time": "2025-05-06T20:30:59.600402Z"
    }
   },
   "cell_type": "code",
   "source": [
    "def sum_numbers(a, b):\n",
    "\n",
    "    result = a + b\n",
    "    print(\"The sum is\", result)\n"
   ],
   "id": "ed1c6e8afa16aeb6",
   "outputs": [],
   "execution_count": 17
  },
  {
   "metadata": {
    "ExecuteTime": {
     "end_time": "2025-05-06T20:31:03.806967Z",
     "start_time": "2025-05-06T20:31:03.793747Z"
    }
   },
   "cell_type": "code",
   "source": "sum_numbers(3, 4)",
   "id": "ee8ef5a7dbab0dcc",
   "outputs": [
    {
     "name": "stdout",
     "output_type": "stream",
     "text": [
      "The sum is 7\n"
     ]
    }
   ],
   "execution_count": 18
  }
 ],
 "metadata": {
  "kernelspec": {
   "display_name": "Python 3",
   "language": "python",
   "name": "python3"
  },
  "language_info": {
   "codemirror_mode": {
    "name": "ipython",
    "version": 2
   },
   "file_extension": ".py",
   "mimetype": "text/x-python",
   "name": "python",
   "nbconvert_exporter": "python",
   "pygments_lexer": "ipython2",
   "version": "2.7.6"
  }
 },
 "nbformat": 4,
 "nbformat_minor": 5
}
