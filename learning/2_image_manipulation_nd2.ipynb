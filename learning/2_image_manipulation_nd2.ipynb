{
 "cells": [
  {
   "metadata": {},
   "cell_type": "markdown",
   "source": [
    "# image manipulation in python\n",
    "a notebook to learn a few basics about image manipulation"
   ],
   "id": "fc51145a600b61a9"
  },
  {
   "metadata": {
    "ExecuteTime": {
     "end_time": "2025-05-08T14:04:49.567780Z",
     "start_time": "2025-05-08T14:04:47.806243Z"
    }
   },
   "cell_type": "code",
   "source": "pip install aicsimageio[nd2]",
   "id": "8e88edc9460cdb57",
   "outputs": [
    {
     "name": "stdout",
     "output_type": "stream",
     "text": [
      "Requirement already satisfied: aicsimageio[nd2] in c:\\users\\liebs\\pycharmprojects\\imageanalysisnbc2025\\.venv\\lib\\site-packages (4.14.0)\n",
      "Requirement already satisfied: dask>=2021.4.1 in c:\\users\\liebs\\pycharmprojects\\imageanalysisnbc2025\\.venv\\lib\\site-packages (from dask[array]>=2021.4.1->aicsimageio[nd2]) (2025.3.0)\n",
      "Requirement already satisfied: fsspec<2023.9.0,>=2022.8.0 in c:\\users\\liebs\\pycharmprojects\\imageanalysisnbc2025\\.venv\\lib\\site-packages (from aicsimageio[nd2]) (2023.6.0)\n",
      "Requirement already satisfied: imagecodecs>=2020.5.30 in c:\\users\\liebs\\pycharmprojects\\imageanalysisnbc2025\\.venv\\lib\\site-packages (from aicsimageio[nd2]) (2025.3.30)\n",
      "Requirement already satisfied: lxml<5,>=4.6 in c:\\users\\liebs\\pycharmprojects\\imageanalysisnbc2025\\.venv\\lib\\site-packages (from aicsimageio[nd2]) (4.9.4)\n",
      "Requirement already satisfied: numpy>=1.21.0 in c:\\users\\liebs\\pycharmprojects\\imageanalysisnbc2025\\.venv\\lib\\site-packages (from aicsimageio[nd2]) (1.26.3)\n",
      "Requirement already satisfied: ome-types>=0.3.4 in c:\\users\\liebs\\pycharmprojects\\imageanalysisnbc2025\\.venv\\lib\\site-packages (from aicsimageio[nd2]) (0.6.1)\n",
      "Requirement already satisfied: ome-zarr>=0.6.1 in c:\\users\\liebs\\pycharmprojects\\imageanalysisnbc2025\\.venv\\lib\\site-packages (from aicsimageio[nd2]) (0.10.3)\n",
      "Requirement already satisfied: PyYAML>=6.0 in c:\\users\\liebs\\pycharmprojects\\imageanalysisnbc2025\\.venv\\lib\\site-packages (from aicsimageio[nd2]) (6.0.2)\n",
      "Requirement already satisfied: wrapt>=1.12 in c:\\users\\liebs\\pycharmprojects\\imageanalysisnbc2025\\.venv\\lib\\site-packages (from aicsimageio[nd2]) (1.17.2)\n",
      "Requirement already satisfied: resource-backed-dask-array>=0.1.0 in c:\\users\\liebs\\pycharmprojects\\imageanalysisnbc2025\\.venv\\lib\\site-packages (from aicsimageio[nd2]) (0.1.0)\n",
      "Requirement already satisfied: tifffile<2023.3.15,>=2021.8.30 in c:\\users\\liebs\\pycharmprojects\\imageanalysisnbc2025\\.venv\\lib\\site-packages (from aicsimageio[nd2]) (2023.2.28)\n",
      "Requirement already satisfied: xarray>=0.16.1 in c:\\users\\liebs\\pycharmprojects\\imageanalysisnbc2025\\.venv\\lib\\site-packages (from aicsimageio[nd2]) (2025.3.1)\n",
      "Requirement already satisfied: xmlschema in c:\\users\\liebs\\pycharmprojects\\imageanalysisnbc2025\\.venv\\lib\\site-packages (from aicsimageio[nd2]) (4.0.1)\n",
      "Requirement already satisfied: zarr<2.16.0,>=2.6 in c:\\users\\liebs\\pycharmprojects\\imageanalysisnbc2025\\.venv\\lib\\site-packages (from aicsimageio[nd2]) (2.15.0)\n",
      "Requirement already satisfied: nd2>=0.6.0 in c:\\users\\liebs\\pycharmprojects\\imageanalysisnbc2025\\.venv\\lib\\site-packages (from nd2[legacy]>=0.6.0; extra == \"nd2\"->aicsimageio[nd2]) (0.10.3)\n",
      "Requirement already satisfied: asciitree in c:\\users\\liebs\\pycharmprojects\\imageanalysisnbc2025\\.venv\\lib\\site-packages (from zarr<2.16.0,>=2.6->aicsimageio[nd2]) (0.3.3)\n",
      "Requirement already satisfied: fasteners in c:\\users\\liebs\\pycharmprojects\\imageanalysisnbc2025\\.venv\\lib\\site-packages (from zarr<2.16.0,>=2.6->aicsimageio[nd2]) (0.19)\n",
      "Requirement already satisfied: numcodecs>=0.10.0 in c:\\users\\liebs\\pycharmprojects\\imageanalysisnbc2025\\.venv\\lib\\site-packages (from zarr<2.16.0,>=2.6->aicsimageio[nd2]) (0.13.1)\n",
      "Requirement already satisfied: click>=8.1 in c:\\users\\liebs\\pycharmprojects\\imageanalysisnbc2025\\.venv\\lib\\site-packages (from dask>=2021.4.1->dask[array]>=2021.4.1->aicsimageio[nd2]) (8.1.8)\n",
      "Requirement already satisfied: cloudpickle>=3.0.0 in c:\\users\\liebs\\pycharmprojects\\imageanalysisnbc2025\\.venv\\lib\\site-packages (from dask>=2021.4.1->dask[array]>=2021.4.1->aicsimageio[nd2]) (3.1.1)\n",
      "Requirement already satisfied: packaging>=20.0 in c:\\users\\liebs\\pycharmprojects\\imageanalysisnbc2025\\.venv\\lib\\site-packages (from dask>=2021.4.1->dask[array]>=2021.4.1->aicsimageio[nd2]) (24.2)\n",
      "Requirement already satisfied: partd>=1.4.0 in c:\\users\\liebs\\pycharmprojects\\imageanalysisnbc2025\\.venv\\lib\\site-packages (from dask>=2021.4.1->dask[array]>=2021.4.1->aicsimageio[nd2]) (1.4.2)\n",
      "Requirement already satisfied: toolz>=0.10.0 in c:\\users\\liebs\\pycharmprojects\\imageanalysisnbc2025\\.venv\\lib\\site-packages (from dask>=2021.4.1->dask[array]>=2021.4.1->aicsimageio[nd2]) (1.0.0)\n",
      "Requirement already satisfied: importlib_metadata>=4.13.0 in c:\\users\\liebs\\pycharmprojects\\imageanalysisnbc2025\\.venv\\lib\\site-packages (from dask>=2021.4.1->dask[array]>=2021.4.1->aicsimageio[nd2]) (8.6.1)\n",
      "Requirement already satisfied: colorama in c:\\users\\liebs\\pycharmprojects\\imageanalysisnbc2025\\.venv\\lib\\site-packages (from click>=8.1->dask>=2021.4.1->dask[array]>=2021.4.1->aicsimageio[nd2]) (0.4.6)\n",
      "Requirement already satisfied: zipp>=3.20 in c:\\users\\liebs\\pycharmprojects\\imageanalysisnbc2025\\.venv\\lib\\site-packages (from importlib_metadata>=4.13.0->dask>=2021.4.1->dask[array]>=2021.4.1->aicsimageio[nd2]) (3.21.0)\n",
      "Requirement already satisfied: typing-extensions in c:\\users\\liebs\\pycharmprojects\\imageanalysisnbc2025\\.venv\\lib\\site-packages (from nd2>=0.6.0->nd2[legacy]>=0.6.0; extra == \"nd2\"->aicsimageio[nd2]) (4.13.2)\n",
      "Requirement already satisfied: pydantic-extra-types in c:\\users\\liebs\\pycharmprojects\\imageanalysisnbc2025\\.venv\\lib\\site-packages (from ome-types>=0.3.4->aicsimageio[nd2]) (2.10.3)\n",
      "Requirement already satisfied: pydantic>=2.4 in c:\\users\\liebs\\pycharmprojects\\imageanalysisnbc2025\\.venv\\lib\\site-packages (from ome-types>=0.3.4->aicsimageio[nd2]) (2.11.3)\n",
      "Requirement already satisfied: xsdata<24.4,>=23.6 in c:\\users\\liebs\\pycharmprojects\\imageanalysisnbc2025\\.venv\\lib\\site-packages (from ome-types>=0.3.4->aicsimageio[nd2]) (24.3.1)\n",
      "Requirement already satisfied: distributed in c:\\users\\liebs\\pycharmprojects\\imageanalysisnbc2025\\.venv\\lib\\site-packages (from ome-zarr>=0.6.1->aicsimageio[nd2]) (2025.3.0)\n",
      "Requirement already satisfied: aiohttp<4 in c:\\users\\liebs\\pycharmprojects\\imageanalysisnbc2025\\.venv\\lib\\site-packages (from ome-zarr>=0.6.1->aicsimageio[nd2]) (3.11.16)\n",
      "Requirement already satisfied: requests in c:\\users\\liebs\\pycharmprojects\\imageanalysisnbc2025\\.venv\\lib\\site-packages (from ome-zarr>=0.6.1->aicsimageio[nd2]) (2.32.3)\n",
      "Requirement already satisfied: scikit-image in c:\\users\\liebs\\pycharmprojects\\imageanalysisnbc2025\\.venv\\lib\\site-packages (from ome-zarr>=0.6.1->aicsimageio[nd2]) (0.25.2)\n",
      "Requirement already satisfied: aiohappyeyeballs>=2.3.0 in c:\\users\\liebs\\pycharmprojects\\imageanalysisnbc2025\\.venv\\lib\\site-packages (from aiohttp<4->ome-zarr>=0.6.1->aicsimageio[nd2]) (2.6.1)\n",
      "Requirement already satisfied: aiosignal>=1.1.2 in c:\\users\\liebs\\pycharmprojects\\imageanalysisnbc2025\\.venv\\lib\\site-packages (from aiohttp<4->ome-zarr>=0.6.1->aicsimageio[nd2]) (1.3.2)\n",
      "Requirement already satisfied: async-timeout<6.0,>=4.0 in c:\\users\\liebs\\pycharmprojects\\imageanalysisnbc2025\\.venv\\lib\\site-packages (from aiohttp<4->ome-zarr>=0.6.1->aicsimageio[nd2]) (5.0.1)\n",
      "Requirement already satisfied: attrs>=17.3.0 in c:\\users\\liebs\\pycharmprojects\\imageanalysisnbc2025\\.venv\\lib\\site-packages (from aiohttp<4->ome-zarr>=0.6.1->aicsimageio[nd2]) (25.3.0)\n",
      "Requirement already satisfied: frozenlist>=1.1.1 in c:\\users\\liebs\\pycharmprojects\\imageanalysisnbc2025\\.venv\\lib\\site-packages (from aiohttp<4->ome-zarr>=0.6.1->aicsimageio[nd2]) (1.5.0)\n",
      "Requirement already satisfied: multidict<7.0,>=4.5 in c:\\users\\liebs\\pycharmprojects\\imageanalysisnbc2025\\.venv\\lib\\site-packages (from aiohttp<4->ome-zarr>=0.6.1->aicsimageio[nd2]) (6.4.3)\n",
      "Requirement already satisfied: propcache>=0.2.0 in c:\\users\\liebs\\pycharmprojects\\imageanalysisnbc2025\\.venv\\lib\\site-packages (from aiohttp<4->ome-zarr>=0.6.1->aicsimageio[nd2]) (0.3.1)\n",
      "Requirement already satisfied: yarl<2.0,>=1.17.0 in c:\\users\\liebs\\pycharmprojects\\imageanalysisnbc2025\\.venv\\lib\\site-packages (from aiohttp<4->ome-zarr>=0.6.1->aicsimageio[nd2]) (1.20.0)\n",
      "Requirement already satisfied: idna>=2.0 in c:\\users\\liebs\\pycharmprojects\\imageanalysisnbc2025\\.venv\\lib\\site-packages (from yarl<2.0,>=1.17.0->aiohttp<4->ome-zarr>=0.6.1->aicsimageio[nd2]) (3.10)\n",
      "Requirement already satisfied: s3fs in c:\\users\\liebs\\pycharmprojects\\imageanalysisnbc2025\\.venv\\lib\\site-packages (from fsspec[s3]!=2021.07.0,!=2023.9.0,>=0.8->ome-zarr>=0.6.1->aicsimageio[nd2]) (2023.6.0)\n",
      "Requirement already satisfied: locket in c:\\users\\liebs\\pycharmprojects\\imageanalysisnbc2025\\.venv\\lib\\site-packages (from partd>=1.4.0->dask>=2021.4.1->dask[array]>=2021.4.1->aicsimageio[nd2]) (1.0.0)\n",
      "Requirement already satisfied: annotated-types>=0.6.0 in c:\\users\\liebs\\pycharmprojects\\imageanalysisnbc2025\\.venv\\lib\\site-packages (from pydantic>=2.4->ome-types>=0.3.4->aicsimageio[nd2]) (0.7.0)\n",
      "Requirement already satisfied: pydantic-core==2.33.1 in c:\\users\\liebs\\pycharmprojects\\imageanalysisnbc2025\\.venv\\lib\\site-packages (from pydantic>=2.4->ome-types>=0.3.4->aicsimageio[nd2]) (2.33.1)\n",
      "Requirement already satisfied: typing-inspection>=0.4.0 in c:\\users\\liebs\\pycharmprojects\\imageanalysisnbc2025\\.venv\\lib\\site-packages (from pydantic>=2.4->ome-types>=0.3.4->aicsimageio[nd2]) (0.4.0)\n",
      "Requirement already satisfied: pandas>=2.1 in c:\\users\\liebs\\pycharmprojects\\imageanalysisnbc2025\\.venv\\lib\\site-packages (from xarray>=0.16.1->aicsimageio[nd2]) (2.2.3)\n",
      "Requirement already satisfied: python-dateutil>=2.8.2 in c:\\users\\liebs\\pycharmprojects\\imageanalysisnbc2025\\.venv\\lib\\site-packages (from pandas>=2.1->xarray>=0.16.1->aicsimageio[nd2]) (2.9.0.post0)\n",
      "Requirement already satisfied: pytz>=2020.1 in c:\\users\\liebs\\pycharmprojects\\imageanalysisnbc2025\\.venv\\lib\\site-packages (from pandas>=2.1->xarray>=0.16.1->aicsimageio[nd2]) (2025.2)\n",
      "Requirement already satisfied: tzdata>=2022.7 in c:\\users\\liebs\\pycharmprojects\\imageanalysisnbc2025\\.venv\\lib\\site-packages (from pandas>=2.1->xarray>=0.16.1->aicsimageio[nd2]) (2025.2)\n",
      "Requirement already satisfied: six>=1.5 in c:\\users\\liebs\\pycharmprojects\\imageanalysisnbc2025\\.venv\\lib\\site-packages (from python-dateutil>=2.8.2->pandas>=2.1->xarray>=0.16.1->aicsimageio[nd2]) (1.17.0)\n",
      "Requirement already satisfied: jinja2>=2.10.3 in c:\\users\\liebs\\pycharmprojects\\imageanalysisnbc2025\\.venv\\lib\\site-packages (from distributed->ome-zarr>=0.6.1->aicsimageio[nd2]) (3.1.6)\n",
      "Requirement already satisfied: msgpack>=1.0.2 in c:\\users\\liebs\\pycharmprojects\\imageanalysisnbc2025\\.venv\\lib\\site-packages (from distributed->ome-zarr>=0.6.1->aicsimageio[nd2]) (1.1.0)\n",
      "Requirement already satisfied: psutil>=5.8.0 in c:\\users\\liebs\\pycharmprojects\\imageanalysisnbc2025\\.venv\\lib\\site-packages (from distributed->ome-zarr>=0.6.1->aicsimageio[nd2]) (7.0.0)\n",
      "Requirement already satisfied: sortedcontainers>=2.0.5 in c:\\users\\liebs\\pycharmprojects\\imageanalysisnbc2025\\.venv\\lib\\site-packages (from distributed->ome-zarr>=0.6.1->aicsimageio[nd2]) (2.4.0)\n",
      "Requirement already satisfied: tblib>=1.6.0 in c:\\users\\liebs\\pycharmprojects\\imageanalysisnbc2025\\.venv\\lib\\site-packages (from distributed->ome-zarr>=0.6.1->aicsimageio[nd2]) (3.1.0)\n",
      "Requirement already satisfied: tornado>=6.2.0 in c:\\users\\liebs\\pycharmprojects\\imageanalysisnbc2025\\.venv\\lib\\site-packages (from distributed->ome-zarr>=0.6.1->aicsimageio[nd2]) (6.4.2)\n",
      "Requirement already satisfied: urllib3>=1.26.5 in c:\\users\\liebs\\pycharmprojects\\imageanalysisnbc2025\\.venv\\lib\\site-packages (from distributed->ome-zarr>=0.6.1->aicsimageio[nd2]) (1.26.20)\n",
      "Requirement already satisfied: zict>=3.0.0 in c:\\users\\liebs\\pycharmprojects\\imageanalysisnbc2025\\.venv\\lib\\site-packages (from distributed->ome-zarr>=0.6.1->aicsimageio[nd2]) (3.0.0)\n",
      "Requirement already satisfied: MarkupSafe>=2.0 in c:\\users\\liebs\\pycharmprojects\\imageanalysisnbc2025\\.venv\\lib\\site-packages (from jinja2>=2.10.3->distributed->ome-zarr>=0.6.1->aicsimageio[nd2]) (3.0.2)\n",
      "Requirement already satisfied: charset-normalizer<4,>=2 in c:\\users\\liebs\\pycharmprojects\\imageanalysisnbc2025\\.venv\\lib\\site-packages (from requests->ome-zarr>=0.6.1->aicsimageio[nd2]) (3.4.1)\n",
      "Requirement already satisfied: certifi>=2017.4.17 in c:\\users\\liebs\\pycharmprojects\\imageanalysisnbc2025\\.venv\\lib\\site-packages (from requests->ome-zarr>=0.6.1->aicsimageio[nd2]) (2025.1.31)\n",
      "Requirement already satisfied: aiobotocore~=2.5.0 in c:\\users\\liebs\\pycharmprojects\\imageanalysisnbc2025\\.venv\\lib\\site-packages (from s3fs->fsspec[s3]!=2021.07.0,!=2023.9.0,>=0.8->ome-zarr>=0.6.1->aicsimageio[nd2]) (2.5.4)\n",
      "Requirement already satisfied: botocore<1.31.18,>=1.31.17 in c:\\users\\liebs\\pycharmprojects\\imageanalysisnbc2025\\.venv\\lib\\site-packages (from aiobotocore~=2.5.0->s3fs->fsspec[s3]!=2021.07.0,!=2023.9.0,>=0.8->ome-zarr>=0.6.1->aicsimageio[nd2]) (1.31.17)\n",
      "Requirement already satisfied: aioitertools<1.0.0,>=0.5.1 in c:\\users\\liebs\\pycharmprojects\\imageanalysisnbc2025\\.venv\\lib\\site-packages (from aiobotocore~=2.5.0->s3fs->fsspec[s3]!=2021.07.0,!=2023.9.0,>=0.8->ome-zarr>=0.6.1->aicsimageio[nd2]) (0.12.0)\n",
      "Requirement already satisfied: jmespath<2.0.0,>=0.7.1 in c:\\users\\liebs\\pycharmprojects\\imageanalysisnbc2025\\.venv\\lib\\site-packages (from botocore<1.31.18,>=1.31.17->aiobotocore~=2.5.0->s3fs->fsspec[s3]!=2021.07.0,!=2023.9.0,>=0.8->ome-zarr>=0.6.1->aicsimageio[nd2]) (1.0.1)\n",
      "Requirement already satisfied: scipy>=1.11.4 in c:\\users\\liebs\\pycharmprojects\\imageanalysisnbc2025\\.venv\\lib\\site-packages (from scikit-image->ome-zarr>=0.6.1->aicsimageio[nd2]) (1.15.2)\n",
      "Requirement already satisfied: networkx>=3.0 in c:\\users\\liebs\\pycharmprojects\\imageanalysisnbc2025\\.venv\\lib\\site-packages (from scikit-image->ome-zarr>=0.6.1->aicsimageio[nd2]) (3.4.2)\n",
      "Requirement already satisfied: pillow>=10.1 in c:\\users\\liebs\\pycharmprojects\\imageanalysisnbc2025\\.venv\\lib\\site-packages (from scikit-image->ome-zarr>=0.6.1->aicsimageio[nd2]) (11.2.1)\n",
      "Requirement already satisfied: imageio!=2.35.0,>=2.33 in c:\\users\\liebs\\pycharmprojects\\imageanalysisnbc2025\\.venv\\lib\\site-packages (from scikit-image->ome-zarr>=0.6.1->aicsimageio[nd2]) (2.37.0)\n",
      "Requirement already satisfied: lazy-loader>=0.4 in c:\\users\\liebs\\pycharmprojects\\imageanalysisnbc2025\\.venv\\lib\\site-packages (from scikit-image->ome-zarr>=0.6.1->aicsimageio[nd2]) (0.4)\n",
      "Requirement already satisfied: elementpath<6.0.0,>=4.8.0 in c:\\users\\liebs\\pycharmprojects\\imageanalysisnbc2025\\.venv\\lib\\site-packages (from xmlschema->aicsimageio[nd2]) (4.8.0)\n",
      "Note: you may need to restart the kernel to use updated packages.\n"
     ]
    }
   ],
   "execution_count": 1
  },
  {
   "metadata": {},
   "cell_type": "code",
   "source": "pip install scikit-image",
   "id": "b94791d92275ba5",
   "outputs": [],
   "execution_count": null
  },
  {
   "metadata": {},
   "cell_type": "markdown",
   "source": "next we will load the packages that we need",
   "id": "40f38c5caf7f5e22"
  },
  {
   "metadata": {},
   "cell_type": "code",
   "source": [
    "from matplotlib import pyplot as plt\n",
    "import numpy as np\n",
    "from aicsimageio import AICSImage\n",
    "from skimage.filters import gaussian"
   ],
   "id": "aae72af4b7b5836c",
   "outputs": [],
   "execution_count": null
  },
  {
   "metadata": {},
   "cell_type": "markdown",
   "source": [
    "## load and display an image\n",
    "next we will load an image, i.e. an nd2 file (Nikon's file format)"
   ],
   "id": "4e21e1a7f2e3e3d"
  },
  {
   "metadata": {},
   "cell_type": "code",
   "source": [
    "# load an nd2 file\n",
    "img = AICSImage('../data/nd2/WT_001.nd2')\n",
    "data = img.get_image_data(\"TCZYX\")  # Choose the correct dimension order\n",
    "data.shape"
   ],
   "id": "b2b32ff9f9a7f606",
   "outputs": [],
   "execution_count": null
  },
  {
   "metadata": {},
   "cell_type": "markdown",
   "source": "after that let's display the image to see what we are working with",
   "id": "fb8a2d25da480f4"
  },
  {
   "metadata": {},
   "cell_type": "code",
   "source": [
    "# Pick the first timepoint and z-slice\n",
    "t_index = 0\n",
    "z_index = 0\n",
    "\n",
    "# Extract each channel slice (assume 3 channels, for example)\n",
    "channel_0 = data[t_index, 0, z_index, :, :]\n",
    "channel_1 = data[t_index, 1, z_index, :, :]\n",
    "channel_2 = data[t_index, 2, z_index, :, :]\n",
    "\n",
    "# make a quick figure to display individual channels\n",
    "fig, axes = plt.subplots(1, 3, figsize=(12, 4))\n",
    "\n",
    "axes[0].imshow(channel_0, cmap='gray')\n",
    "axes[0].set_title(\"Channel 0\")\n",
    "\n",
    "axes[1].imshow(channel_1, cmap='gray')\n",
    "axes[1].set_title(\"Channel 1\")\n",
    "\n",
    "axes[2].imshow(channel_2, cmap='gray')\n",
    "axes[2].set_title(\"Channel 2\")\n",
    "\n",
    "plt.tight_layout()\n",
    "plt.show()"
   ],
   "id": "863ffa14234f093c",
   "outputs": [],
   "execution_count": null
  },
  {
   "metadata": {},
   "cell_type": "markdown",
   "source": "as you can see x- and y- coordinates are displayed in pixel numbers, we can write a function to retrieve the actual dimensions from the image's metadata",
   "id": "80443e556db637ac"
  },
  {
   "metadata": {},
   "cell_type": "code",
   "source": [
    "# extract meta data, i.e. size of voxel in µm\n",
    "def get_voxel_size_from_aics_image(aics_image):\n",
    "    return (aics_image.physical_pixel_sizes.Z,\n",
    "            aics_image.physical_pixel_sizes.Y,\n",
    "            aics_image.physical_pixel_sizes.X)"
   ],
   "id": "a6297e760602aaef",
   "outputs": [],
   "execution_count": null
  },
  {
   "metadata": {},
   "cell_type": "markdown",
   "source": "we can call the function by its name and run input an image",
   "id": "82ee64c6b0afe319"
  },
  {
   "metadata": {},
   "cell_type": "code",
   "source": [
    "voxel = get_voxel_size_from_aics_image(img)\n",
    "\n",
    "voxel"
   ],
   "id": "c3c6adcb9b28cac2",
   "outputs": [],
   "execution_count": null
  },
  {
   "metadata": {},
   "cell_type": "markdown",
   "source": "since we are working with a single image plane, z has no meaning and each pixel is 0.176.. µm",
   "id": "dec23e67db3beb3f"
  },
  {
   "metadata": {},
   "cell_type": "markdown",
   "source": "we can use these numbers now to calculate the dimensions of our image",
   "id": "3f4d0e0dfd71af36"
  },
  {
   "metadata": {},
   "cell_type": "code",
   "source": [
    "x_dimension = data.shape[4] * voxel[1]\n",
    "y_dimension = data.shape[3] * voxel[1]\n",
    "\n",
    "print(f\"length in x: {x_dimension:.2f} µm\")\n",
    "print(f\"length in y: {y_dimension:.2f} µm\")"
   ],
   "id": "5056ecbc66bd705d",
   "outputs": [],
   "execution_count": null
  },
  {
   "metadata": {},
   "cell_type": "markdown",
   "source": [
    "## basic image transformations\n",
    "let's learn some basic image transformations, we will be using image filters scikit-image, to start with, we will be working with a single channel for simplicity"
   ],
   "id": "20c00a689ecc112d"
  },
  {
   "metadata": {},
   "cell_type": "code",
   "source": [
    "gphn = channel_0\n",
    "gphn.shape"
   ],
   "id": "452b7d9e926a2d54",
   "outputs": [],
   "execution_count": null
  },
  {
   "metadata": {},
   "cell_type": "code",
   "source": "plt.imshow(gphn, cmap='Greys')",
   "id": "1af1254bea8fd002",
   "outputs": [],
   "execution_count": null
  },
  {
   "metadata": {},
   "cell_type": "code",
   "source": [
    "plt.hist(gphn.ravel(), bins=4096)\n",
    "plt.show()"
   ],
   "id": "e26f7cafc807a1d9",
   "outputs": [],
   "execution_count": null
  },
  {
   "metadata": {},
   "cell_type": "markdown",
   "source": "next we will use a Gaussian filter and display the resulting image in order to smooth the image",
   "id": "5ac5e54e3296e454"
  },
  {
   "metadata": {},
   "cell_type": "code",
   "source": [
    "high = gaussian(gphn, sigma=10, preserve_range=True)\n",
    "plt.imshow(high, cmap='Greys')"
   ],
   "id": "2a721aa06a489b1d",
   "outputs": [],
   "execution_count": null
  },
  {
   "metadata": {},
   "cell_type": "markdown",
   "source": "in this smooth image, gephyrin clusters cannot be seen, finally we will apply two gaussian filters (separately) and then subtract these images (pixel by pixel) from one another, this is called difference of Gaussians (DoG) and this method can be used to enhance certain features of an image",
   "id": "1859b569347cc16a"
  },
  {
   "metadata": {},
   "cell_type": "code",
   "source": [
    "plt.hist(high.ravel(), bins=4096)\n",
    "plt.show()"
   ],
   "id": "23fa9c0f1c9513de",
   "outputs": [],
   "execution_count": null
  },
  {
   "metadata": {},
   "cell_type": "code",
   "source": [
    "def sub_to_zero(a, b):\n",
    "    # Element-wise subtraction and maximum with zero\n",
    "    return np.maximum(a - b, 0)\n",
    "\n",
    "\n",
    "# Process Gphn channel (Difference of Gaussian)\n",
    "low = gaussian(gphn, sigma=2, preserve_range=True)\n",
    "high = gaussian(gphn, sigma=10, preserve_range=True)\n",
    "\n",
    "dog = sub_to_zero(low,high)\n",
    "\n",
    "# make a quick figure for display\n",
    "fig, axes = plt.subplots(1, 4, figsize=(12, 4))\n",
    "\n",
    "axes[0].imshow(gphn, cmap='gray')\n",
    "axes[0].set_title(\"original\")\n",
    "\n",
    "axes[1].imshow(low, cmap='gray')\n",
    "axes[1].set_title(\"low gaussian\")\n",
    "\n",
    "axes[2].imshow(high, cmap='gray')\n",
    "axes[2].set_title(\"high gaussian\")\n",
    "\n",
    "axes[3].imshow(dog, cmap='gray')\n",
    "axes[3].set_title(\"difference\")\n",
    "\n",
    "plt.tight_layout()\n",
    "plt.show()"
   ],
   "id": "a4db044208f38ad0",
   "outputs": [],
   "execution_count": null
  },
  {
   "metadata": {},
   "cell_type": "code",
   "source": [
    "# make a quick figure to display individual channels\n",
    "fig, axes = plt.subplots(1, 2, figsize=(12, 4))\n",
    "\n",
    "axes[0].imshow(gphn, cmap='Grays')\n",
    "axes[0].set_title(\"original\")\n",
    "\n",
    "axes[1].imshow(dog, cmap='Grays')\n",
    "axes[1].set_title(\"difference\")\n",
    "\n",
    "plt.tight_layout()\n",
    "plt.show()\n"
   ],
   "id": "d5f5d76743215e2a",
   "outputs": [],
   "execution_count": null
  }
 ],
 "metadata": {
  "kernelspec": {
   "display_name": "Python 3",
   "language": "python",
   "name": "python3"
  },
  "language_info": {
   "codemirror_mode": {
    "name": "ipython",
    "version": 2
   },
   "file_extension": ".py",
   "mimetype": "text/x-python",
   "name": "python",
   "nbconvert_exporter": "python",
   "pygments_lexer": "ipython2",
   "version": "2.7.6"
  }
 },
 "nbformat": 4,
 "nbformat_minor": 5
}
