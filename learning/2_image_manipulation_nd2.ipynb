{
 "cells": [
  {
   "metadata": {},
   "cell_type": "markdown",
   "source": [
    "# image manipulation in python\n",
    "a notebook to learn a few basics about image manipulation"
   ],
   "id": "fc51145a600b61a9"
  },
  {
   "metadata": {},
   "cell_type": "code",
   "source": "pip install matplotlib",
   "id": "647f5d08cdabbf38",
   "outputs": [],
   "execution_count": null
  },
  {
   "metadata": {},
   "cell_type": "code",
   "source": "pip install numpy==1.26.3",
   "id": "7a0001e458d19fcb",
   "outputs": [],
   "execution_count": null
  },
  {
   "metadata": {},
   "cell_type": "code",
   "source": "pip install aicsimageio==4.14.0",
   "id": "20bb9fca2aa401a8",
   "outputs": [],
   "execution_count": null
  },
  {
   "metadata": {},
   "cell_type": "code",
   "source": "pip install aicsimageio[nd2]",
   "id": "8e88edc9460cdb57",
   "outputs": [],
   "execution_count": null
  },
  {
   "metadata": {},
   "cell_type": "code",
   "source": "pip install scikit-image",
   "id": "b94791d92275ba5",
   "outputs": [],
   "execution_count": null
  },
  {
   "metadata": {},
   "cell_type": "code",
   "source": "pip install numpy",
   "id": "6b4d423149cbac87",
   "outputs": [],
   "execution_count": null
  },
  {
   "metadata": {},
   "cell_type": "markdown",
   "source": "next we will load the packages that we need",
   "id": "40f38c5caf7f5e22"
  },
  {
   "metadata": {},
   "cell_type": "code",
   "source": [
    "from matplotlib import pyplot as plt\n",
    "import numpy as np\n",
    "from aicsimageio import AICSImage\n",
    "from skimage.filters import gaussian"
   ],
   "id": "aae72af4b7b5836c",
   "outputs": [],
   "execution_count": null
  },
  {
   "metadata": {},
   "cell_type": "markdown",
   "source": [
    "## load and display an image\n",
    "next we will load an image, i.e. an nd2 file (Nikon's file format)"
   ],
   "id": "4e21e1a7f2e3e3d"
  },
  {
   "metadata": {},
   "cell_type": "code",
   "source": [
    "# load an nd2 file\n",
    "img = AICSImage('../data/nd2/WT_001.nd2')\n",
    "data = img.get_image_data(\"TCZYX\")  # Choose the correct dimension order\n",
    "data.shape"
   ],
   "id": "b2b32ff9f9a7f606",
   "outputs": [],
   "execution_count": null
  },
  {
   "metadata": {},
   "cell_type": "markdown",
   "source": "after that let's display the image to see what we are working with",
   "id": "fb8a2d25da480f4"
  },
  {
   "metadata": {},
   "cell_type": "code",
   "source": [
    "# Pick the first timepoint and z-slice\n",
    "t_index = 0\n",
    "z_index = 0\n",
    "\n",
    "# Extract each channel slice (assume 3 channels, for example)\n",
    "channel_0 = data[t_index, 0, z_index, :, :]\n",
    "channel_1 = data[t_index, 1, z_index, :, :]\n",
    "channel_2 = data[t_index, 2, z_index, :, :]\n",
    "\n",
    "# make a quick figure to display individual channels\n",
    "fig, axes = plt.subplots(1, 3, figsize=(12, 4))\n",
    "\n",
    "axes[0].imshow(channel_0, cmap='gray')\n",
    "axes[0].set_title(\"Channel 0\")\n",
    "\n",
    "axes[1].imshow(channel_1, cmap='gray')\n",
    "axes[1].set_title(\"Channel 1\")\n",
    "\n",
    "axes[2].imshow(channel_2, cmap='gray')\n",
    "axes[2].set_title(\"Channel 2\")\n",
    "\n",
    "plt.tight_layout()\n",
    "plt.show()"
   ],
   "id": "863ffa14234f093c",
   "outputs": [],
   "execution_count": null
  },
  {
   "metadata": {},
   "cell_type": "markdown",
   "source": "as you can see x- and y- coordinates are displayed in pixel numbers, we can write a function to retrieve the actual dimensions from the image's metadata",
   "id": "80443e556db637ac"
  },
  {
   "metadata": {},
   "cell_type": "code",
   "source": [
    "# extract meta data, i.e. size of voxel in µm\n",
    "def get_voxel_size_from_aics_image(aics_image):\n",
    "    return (aics_image.physical_pixel_sizes.Z,\n",
    "            aics_image.physical_pixel_sizes.Y,\n",
    "            aics_image.physical_pixel_sizes.X)"
   ],
   "id": "a6297e760602aaef",
   "outputs": [],
   "execution_count": null
  },
  {
   "metadata": {},
   "cell_type": "markdown",
   "source": "we can call the function by its name and run input an image",
   "id": "82ee64c6b0afe319"
  },
  {
   "metadata": {},
   "cell_type": "code",
   "source": [
    "voxel = get_voxel_size_from_aics_image(img)\n",
    "\n",
    "voxel"
   ],
   "id": "c3c6adcb9b28cac2",
   "outputs": [],
   "execution_count": null
  },
  {
   "metadata": {},
   "cell_type": "markdown",
   "source": "since we are working with a single image plane, z has no meaning and each pixel is 0.176.. µm",
   "id": "dec23e67db3beb3f"
  },
  {
   "metadata": {},
   "cell_type": "markdown",
   "source": "we can use these numbers now to calculate the dimensions of our image",
   "id": "3f4d0e0dfd71af36"
  },
  {
   "metadata": {},
   "cell_type": "code",
   "source": [
    "x_dimension = data.shape[4] * voxel[1]\n",
    "y_dimension = data.shape[3] * voxel[1]\n",
    "\n",
    "print(f\"length in x: {x_dimension:.2f} µm\")\n",
    "print(f\"length in y: {y_dimension:.2f} µm\")"
   ],
   "id": "5056ecbc66bd705d",
   "outputs": [],
   "execution_count": null
  },
  {
   "metadata": {},
   "cell_type": "markdown",
   "source": [
    "## basic image transformations\n",
    "let's learn some basic image transformations, we will be using image filters scikit-image, to start with, we will be working with a single channel for simplicity"
   ],
   "id": "20c00a689ecc112d"
  },
  {
   "metadata": {},
   "cell_type": "code",
   "source": [
    "gphn = channel_0\n",
    "gphn.shape"
   ],
   "id": "452b7d9e926a2d54",
   "outputs": [],
   "execution_count": null
  },
  {
   "metadata": {},
   "cell_type": "code",
   "source": "plt.imshow(gphn, cmap='Greys')",
   "id": "1af1254bea8fd002",
   "outputs": [],
   "execution_count": null
  },
  {
   "metadata": {},
   "cell_type": "code",
   "source": [
    "plt.hist(gphn.ravel(), bins=4096)\n",
    "plt.show()"
   ],
   "id": "e26f7cafc807a1d9",
   "outputs": [],
   "execution_count": null
  },
  {
   "metadata": {},
   "cell_type": "markdown",
   "source": "next we will use a Gaussian filter and display the resulting image in order to smooth the image",
   "id": "5ac5e54e3296e454"
  },
  {
   "metadata": {},
   "cell_type": "code",
   "source": [
    "high = gaussian(gphn, sigma=10, preserve_range=True)\n",
    "plt.imshow(high, cmap='Greys')"
   ],
   "id": "2a721aa06a489b1d",
   "outputs": [],
   "execution_count": null
  },
  {
   "metadata": {},
   "cell_type": "markdown",
   "source": "in this smooth image, gephyrin clusters cannot be seen, finally we will apply two gaussian filters (separately) and then subtract these images (pixel by pixel) from one another, this is called difference of Gaussians (DoG) and this method can be used to enhance certain features of an image",
   "id": "1859b569347cc16a"
  },
  {
   "metadata": {},
   "cell_type": "code",
   "source": [
    "plt.hist(high.ravel(), bins=4096)\n",
    "plt.show()"
   ],
   "id": "23fa9c0f1c9513de",
   "outputs": [],
   "execution_count": null
  },
  {
   "metadata": {},
   "cell_type": "code",
   "source": [
    "def sub_to_zero(a, b):\n",
    "    # Element-wise subtraction and maximum with zero\n",
    "    return np.maximum(a - b, 0)\n",
    "\n",
    "\n",
    "# Process Gphn channel (Difference of Gaussian)\n",
    "low = gaussian(gphn, sigma=2, preserve_range=True)\n",
    "high = gaussian(gphn, sigma=10, preserve_range=True)\n",
    "\n",
    "dog = sub_to_zero(low,high)\n",
    "\n",
    "# make a quick figure for display\n",
    "fig, axes = plt.subplots(1, 4, figsize=(12, 4))\n",
    "\n",
    "axes[0].imshow(gphn, cmap='gray')\n",
    "axes[0].set_title(\"original\")\n",
    "\n",
    "axes[1].imshow(low, cmap='gray')\n",
    "axes[1].set_title(\"low gaussian\")\n",
    "\n",
    "axes[2].imshow(high, cmap='gray')\n",
    "axes[2].set_title(\"high gaussian\")\n",
    "\n",
    "axes[3].imshow(dog, cmap='gray')\n",
    "axes[3].set_title(\"difference\")\n",
    "\n",
    "plt.tight_layout()\n",
    "plt.show()"
   ],
   "id": "a4db044208f38ad0",
   "outputs": [],
   "execution_count": null
  },
  {
   "metadata": {},
   "cell_type": "code",
   "source": [
    "# make a quick figure to display individual channels\n",
    "fig, axes = plt.subplots(1, 2, figsize=(12, 4))\n",
    "\n",
    "axes[0].imshow(gphn, cmap='Grays')\n",
    "axes[0].set_title(\"original\")\n",
    "\n",
    "axes[1].imshow(dog, cmap='Grays')\n",
    "axes[1].set_title(\"difference\")\n",
    "\n",
    "plt.tight_layout()\n",
    "plt.show()\n"
   ],
   "id": "d5f5d76743215e2a",
   "outputs": [],
   "execution_count": null
  }
 ],
 "metadata": {
  "kernelspec": {
   "display_name": "Python 3",
   "language": "python",
   "name": "python3"
  },
  "language_info": {
   "codemirror_mode": {
    "name": "ipython",
    "version": 2
   },
   "file_extension": ".py",
   "mimetype": "text/x-python",
   "name": "python",
   "nbconvert_exporter": "python",
   "pygments_lexer": "ipython2",
   "version": "2.7.6"
  }
 },
 "nbformat": 4,
 "nbformat_minor": 5
}
