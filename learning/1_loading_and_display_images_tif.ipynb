{
 "cells": [
  {
   "metadata": {},
   "cell_type": "markdown",
   "source": [
    "# Loading and Displaying Images into python\n",
    "a notebook for basic image loading and display."
   ],
   "id": "fc51145a600b61a9"
  },
  {
   "metadata": {},
   "cell_type": "markdown",
   "source": "to work with images, we will use packages that need to be installed",
   "id": "1e1bf25deb47c46d"
  },
  {
   "metadata": {},
   "cell_type": "code",
   "source": "pip install numpy==1.26.3",
   "id": "f67e2a6dfdc72ec0",
   "outputs": [],
   "execution_count": null
  },
  {
   "metadata": {},
   "cell_type": "code",
   "source": "pip install matplotlib",
   "id": "c41459ba351a4d2f",
   "outputs": [],
   "execution_count": null
  },
  {
   "metadata": {},
   "cell_type": "code",
   "source": "pip install aicsimageio==4.14.0",
   "id": "35967160c141fa4b",
   "outputs": [],
   "execution_count": null
  },
  {
   "metadata": {},
   "cell_type": "markdown",
   "source": "next we will import the packages that we need, with \"import\" entire packages can be used, with \"from ... import\" parts can be used and with \"...as\" we can define an acronym to be used for functions from the package",
   "id": "40f38c5caf7f5e22"
  },
  {
   "metadata": {},
   "cell_type": "code",
   "source": [
    "from matplotlib import pyplot as plt\n",
    "from aicsimageio import AICSImage"
   ],
   "id": "aae72af4b7b5836c",
   "outputs": [],
   "execution_count": null
  },
  {
   "metadata": {},
   "cell_type": "markdown",
   "source": [
    "## Load and Display an Image\n",
    "Loading a sample image and displaying it using matplotlib"
   ],
   "id": "4e21e1a7f2e3e3d"
  },
  {
   "metadata": {},
   "cell_type": "code",
   "source": [
    "img = AICSImage('../data/artificial/test_3col.tif')\n",
    "data = img.get_image_data(\"TZCYX\")  # Choose the correct dimension order\n",
    "data.shape"
   ],
   "id": "b2b32ff9f9a7f606",
   "outputs": [],
   "execution_count": null
  },
  {
   "metadata": {},
   "cell_type": "markdown",
   "source": [
    "## Basic Image Transformations\n",
    "Performing basic image manipulations like rotation, resizing, and cropping"
   ],
   "id": "20c00a689ecc112d"
  },
  {
   "metadata": {},
   "cell_type": "code",
   "source": [
    "# Pick the first timepoint and z-slice\n",
    "t_index = 0\n",
    "z_index = 0\n",
    "\n",
    "# Extract each channel slice (assume 3 channels, for example)\n",
    "channel_0 = data[t_index, z_index, 0, :, :]\n",
    "channel_1 = data[t_index, z_index, 1, :, :]\n",
    "channel_2 = data[t_index, z_index, 2, :, :]\n",
    "\n",
    "# make a quick figure to display individual channels\n",
    "fig, axes = plt.subplots(1, 3, figsize=(12, 4))\n",
    "\n",
    "axes[0].imshow(channel_0, cmap='gray')\n",
    "axes[0].set_title(\"Channel 0\")\n",
    "\n",
    "axes[1].imshow(channel_1, cmap='gray')\n",
    "axes[1].set_title(\"Channel 1\")\n",
    "\n",
    "axes[2].imshow(channel_2, cmap='gray')\n",
    "axes[2].set_title(\"Channel 2\")\n",
    "\n",
    "plt.tight_layout()\n",
    "plt.show()"
   ],
   "id": "1af1254bea8fd002",
   "outputs": [],
   "execution_count": null
  }
 ],
 "metadata": {
  "kernelspec": {
   "display_name": "Python 3",
   "language": "python",
   "name": "python3"
  },
  "language_info": {
   "codemirror_mode": {
    "name": "ipython",
    "version": 2
   },
   "file_extension": ".py",
   "mimetype": "text/x-python",
   "name": "python",
   "nbconvert_exporter": "python",
   "pygments_lexer": "ipython2",
   "version": "2.7.6"
  }
 },
 "nbformat": 4,
 "nbformat_minor": 5
}
