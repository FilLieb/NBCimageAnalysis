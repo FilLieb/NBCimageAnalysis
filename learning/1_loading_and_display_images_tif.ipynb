{
 "cells": [
  {
   "metadata": {},
   "cell_type": "markdown",
   "source": [
    "# Loading and Displaying Images into python\n",
    "a notebook for basic image loading and display."
   ],
   "id": "fc51145a600b61a9"
  },
  {
   "metadata": {},
   "cell_type": "markdown",
   "source": "to work with images, we will use packages that need to be installed",
   "id": "1e1bf25deb47c46d"
  },
  {
   "metadata": {
    "ExecuteTime": {
     "end_time": "2025-05-06T21:40:04.063187Z",
     "start_time": "2025-05-06T21:40:01.173602Z"
    }
   },
   "cell_type": "code",
   "source": "pip install matplotlib",
   "id": "c41459ba351a4d2f",
   "outputs": [
    {
     "name": "stdout",
     "output_type": "stream",
     "text": [
      "Requirement already satisfied: matplotlib in c:\\users\\liebs\\pycharmprojects\\imageanalysisnbc2025\\.venv\\lib\\site-packages (3.10.1)\n",
      "Requirement already satisfied: contourpy>=1.0.1 in c:\\users\\liebs\\pycharmprojects\\imageanalysisnbc2025\\.venv\\lib\\site-packages (from matplotlib) (1.3.2)\n",
      "Requirement already satisfied: cycler>=0.10 in c:\\users\\liebs\\pycharmprojects\\imageanalysisnbc2025\\.venv\\lib\\site-packages (from matplotlib) (0.12.1)\n",
      "Requirement already satisfied: fonttools>=4.22.0 in c:\\users\\liebs\\pycharmprojects\\imageanalysisnbc2025\\.venv\\lib\\site-packages (from matplotlib) (4.57.0)\n",
      "Requirement already satisfied: kiwisolver>=1.3.1 in c:\\users\\liebs\\pycharmprojects\\imageanalysisnbc2025\\.venv\\lib\\site-packages (from matplotlib) (1.4.8)\n",
      "Requirement already satisfied: numpy>=1.23 in c:\\users\\liebs\\pycharmprojects\\imageanalysisnbc2025\\.venv\\lib\\site-packages (from matplotlib) (1.26.3)\n",
      "Requirement already satisfied: packaging>=20.0 in c:\\users\\liebs\\pycharmprojects\\imageanalysisnbc2025\\.venv\\lib\\site-packages (from matplotlib) (24.2)\n",
      "Requirement already satisfied: pillow>=8 in c:\\users\\liebs\\pycharmprojects\\imageanalysisnbc2025\\.venv\\lib\\site-packages (from matplotlib) (11.2.1)\n",
      "Requirement already satisfied: pyparsing>=2.3.1 in c:\\users\\liebs\\pycharmprojects\\imageanalysisnbc2025\\.venv\\lib\\site-packages (from matplotlib) (3.2.3)\n",
      "Requirement already satisfied: python-dateutil>=2.7 in c:\\users\\liebs\\pycharmprojects\\imageanalysisnbc2025\\.venv\\lib\\site-packages (from matplotlib) (2.9.0.post0)\n",
      "Requirement already satisfied: six>=1.5 in c:\\users\\liebs\\pycharmprojects\\imageanalysisnbc2025\\.venv\\lib\\site-packages (from python-dateutil>=2.7->matplotlib) (1.17.0)\n",
      "Note: you may need to restart the kernel to use updated packages.\n"
     ]
    }
   ],
   "execution_count": 1
  },
  {
   "metadata": {
    "ExecuteTime": {
     "end_time": "2025-05-06T21:40:15.083408Z",
     "start_time": "2025-05-06T21:40:11.038705Z"
    }
   },
   "cell_type": "code",
   "source": "pip install aicsimageio==4.14.0",
   "id": "35967160c141fa4b",
   "outputs": [
    {
     "name": "stdout",
     "output_type": "stream",
     "text": [
      "Requirement already satisfied: aicsimageio==4.14.0 in c:\\users\\liebs\\pycharmprojects\\imageanalysisnbc2025\\.venv\\lib\\site-packages (4.14.0)\n",
      "Requirement already satisfied: dask>=2021.4.1 in c:\\users\\liebs\\pycharmprojects\\imageanalysisnbc2025\\.venv\\lib\\site-packages (from dask[array]>=2021.4.1->aicsimageio==4.14.0) (2025.3.0)\n",
      "Requirement already satisfied: fsspec<2023.9.0,>=2022.8.0 in c:\\users\\liebs\\pycharmprojects\\imageanalysisnbc2025\\.venv\\lib\\site-packages (from aicsimageio==4.14.0) (2023.6.0)\n",
      "Requirement already satisfied: imagecodecs>=2020.5.30 in c:\\users\\liebs\\pycharmprojects\\imageanalysisnbc2025\\.venv\\lib\\site-packages (from aicsimageio==4.14.0) (2025.3.30)\n",
      "Requirement already satisfied: lxml<5,>=4.6 in c:\\users\\liebs\\pycharmprojects\\imageanalysisnbc2025\\.venv\\lib\\site-packages (from aicsimageio==4.14.0) (4.9.4)\n",
      "Requirement already satisfied: numpy>=1.21.0 in c:\\users\\liebs\\pycharmprojects\\imageanalysisnbc2025\\.venv\\lib\\site-packages (from aicsimageio==4.14.0) (1.26.3)\n",
      "Requirement already satisfied: ome-types>=0.3.4 in c:\\users\\liebs\\pycharmprojects\\imageanalysisnbc2025\\.venv\\lib\\site-packages (from aicsimageio==4.14.0) (0.6.1)\n",
      "Requirement already satisfied: ome-zarr>=0.6.1 in c:\\users\\liebs\\pycharmprojects\\imageanalysisnbc2025\\.venv\\lib\\site-packages (from aicsimageio==4.14.0) (0.10.3)\n",
      "Requirement already satisfied: PyYAML>=6.0 in c:\\users\\liebs\\pycharmprojects\\imageanalysisnbc2025\\.venv\\lib\\site-packages (from aicsimageio==4.14.0) (6.0.2)\n",
      "Requirement already satisfied: wrapt>=1.12 in c:\\users\\liebs\\pycharmprojects\\imageanalysisnbc2025\\.venv\\lib\\site-packages (from aicsimageio==4.14.0) (1.17.2)\n",
      "Requirement already satisfied: resource-backed-dask-array>=0.1.0 in c:\\users\\liebs\\pycharmprojects\\imageanalysisnbc2025\\.venv\\lib\\site-packages (from aicsimageio==4.14.0) (0.1.0)\n",
      "Requirement already satisfied: tifffile<2023.3.15,>=2021.8.30 in c:\\users\\liebs\\pycharmprojects\\imageanalysisnbc2025\\.venv\\lib\\site-packages (from aicsimageio==4.14.0) (2023.2.28)\n",
      "Requirement already satisfied: xarray>=0.16.1 in c:\\users\\liebs\\pycharmprojects\\imageanalysisnbc2025\\.venv\\lib\\site-packages (from aicsimageio==4.14.0) (2025.3.1)\n",
      "Requirement already satisfied: xmlschema in c:\\users\\liebs\\pycharmprojects\\imageanalysisnbc2025\\.venv\\lib\\site-packages (from aicsimageio==4.14.0) (4.0.1)\n",
      "Requirement already satisfied: zarr<2.16.0,>=2.6 in c:\\users\\liebs\\pycharmprojects\\imageanalysisnbc2025\\.venv\\lib\\site-packages (from aicsimageio==4.14.0) (2.15.0)\n",
      "Requirement already satisfied: asciitree in c:\\users\\liebs\\pycharmprojects\\imageanalysisnbc2025\\.venv\\lib\\site-packages (from zarr<2.16.0,>=2.6->aicsimageio==4.14.0) (0.3.3)\n",
      "Requirement already satisfied: fasteners in c:\\users\\liebs\\pycharmprojects\\imageanalysisnbc2025\\.venv\\lib\\site-packages (from zarr<2.16.0,>=2.6->aicsimageio==4.14.0) (0.19)\n",
      "Requirement already satisfied: numcodecs>=0.10.0 in c:\\users\\liebs\\pycharmprojects\\imageanalysisnbc2025\\.venv\\lib\\site-packages (from zarr<2.16.0,>=2.6->aicsimageio==4.14.0) (0.13.1)\n",
      "Requirement already satisfied: click>=8.1 in c:\\users\\liebs\\pycharmprojects\\imageanalysisnbc2025\\.venv\\lib\\site-packages (from dask>=2021.4.1->dask[array]>=2021.4.1->aicsimageio==4.14.0) (8.1.8)\n",
      "Requirement already satisfied: cloudpickle>=3.0.0 in c:\\users\\liebs\\pycharmprojects\\imageanalysisnbc2025\\.venv\\lib\\site-packages (from dask>=2021.4.1->dask[array]>=2021.4.1->aicsimageio==4.14.0) (3.1.1)\n",
      "Requirement already satisfied: packaging>=20.0 in c:\\users\\liebs\\pycharmprojects\\imageanalysisnbc2025\\.venv\\lib\\site-packages (from dask>=2021.4.1->dask[array]>=2021.4.1->aicsimageio==4.14.0) (24.2)\n",
      "Requirement already satisfied: partd>=1.4.0 in c:\\users\\liebs\\pycharmprojects\\imageanalysisnbc2025\\.venv\\lib\\site-packages (from dask>=2021.4.1->dask[array]>=2021.4.1->aicsimageio==4.14.0) (1.4.2)\n",
      "Requirement already satisfied: toolz>=0.10.0 in c:\\users\\liebs\\pycharmprojects\\imageanalysisnbc2025\\.venv\\lib\\site-packages (from dask>=2021.4.1->dask[array]>=2021.4.1->aicsimageio==4.14.0) (1.0.0)\n",
      "Requirement already satisfied: importlib_metadata>=4.13.0 in c:\\users\\liebs\\pycharmprojects\\imageanalysisnbc2025\\.venv\\lib\\site-packages (from dask>=2021.4.1->dask[array]>=2021.4.1->aicsimageio==4.14.0) (8.6.1)\n",
      "Requirement already satisfied: colorama in c:\\users\\liebs\\pycharmprojects\\imageanalysisnbc2025\\.venv\\lib\\site-packages (from click>=8.1->dask>=2021.4.1->dask[array]>=2021.4.1->aicsimageio==4.14.0) (0.4.6)\n",
      "Requirement already satisfied: zipp>=3.20 in c:\\users\\liebs\\pycharmprojects\\imageanalysisnbc2025\\.venv\\lib\\site-packages (from importlib_metadata>=4.13.0->dask>=2021.4.1->dask[array]>=2021.4.1->aicsimageio==4.14.0) (3.21.0)\n",
      "Requirement already satisfied: pydantic-extra-types in c:\\users\\liebs\\pycharmprojects\\imageanalysisnbc2025\\.venv\\lib\\site-packages (from ome-types>=0.3.4->aicsimageio==4.14.0) (2.10.3)\n",
      "Requirement already satisfied: pydantic>=2.4 in c:\\users\\liebs\\pycharmprojects\\imageanalysisnbc2025\\.venv\\lib\\site-packages (from ome-types>=0.3.4->aicsimageio==4.14.0) (2.11.3)\n",
      "Requirement already satisfied: xsdata<24.4,>=23.6 in c:\\users\\liebs\\pycharmprojects\\imageanalysisnbc2025\\.venv\\lib\\site-packages (from ome-types>=0.3.4->aicsimageio==4.14.0) (24.3.1)\n",
      "Requirement already satisfied: typing-extensions in c:\\users\\liebs\\pycharmprojects\\imageanalysisnbc2025\\.venv\\lib\\site-packages (from xsdata<24.4,>=23.6->ome-types>=0.3.4->aicsimageio==4.14.0) (4.13.2)\n",
      "Requirement already satisfied: distributed in c:\\users\\liebs\\pycharmprojects\\imageanalysisnbc2025\\.venv\\lib\\site-packages (from ome-zarr>=0.6.1->aicsimageio==4.14.0) (2025.3.0)\n",
      "Requirement already satisfied: aiohttp<4 in c:\\users\\liebs\\pycharmprojects\\imageanalysisnbc2025\\.venv\\lib\\site-packages (from ome-zarr>=0.6.1->aicsimageio==4.14.0) (3.11.16)\n",
      "Requirement already satisfied: requests in c:\\users\\liebs\\pycharmprojects\\imageanalysisnbc2025\\.venv\\lib\\site-packages (from ome-zarr>=0.6.1->aicsimageio==4.14.0) (2.32.3)\n",
      "Requirement already satisfied: scikit-image in c:\\users\\liebs\\pycharmprojects\\imageanalysisnbc2025\\.venv\\lib\\site-packages (from ome-zarr>=0.6.1->aicsimageio==4.14.0) (0.25.2)\n",
      "Requirement already satisfied: aiohappyeyeballs>=2.3.0 in c:\\users\\liebs\\pycharmprojects\\imageanalysisnbc2025\\.venv\\lib\\site-packages (from aiohttp<4->ome-zarr>=0.6.1->aicsimageio==4.14.0) (2.6.1)\n",
      "Requirement already satisfied: aiosignal>=1.1.2 in c:\\users\\liebs\\pycharmprojects\\imageanalysisnbc2025\\.venv\\lib\\site-packages (from aiohttp<4->ome-zarr>=0.6.1->aicsimageio==4.14.0) (1.3.2)\n",
      "Requirement already satisfied: async-timeout<6.0,>=4.0 in c:\\users\\liebs\\pycharmprojects\\imageanalysisnbc2025\\.venv\\lib\\site-packages (from aiohttp<4->ome-zarr>=0.6.1->aicsimageio==4.14.0) (5.0.1)\n",
      "Requirement already satisfied: attrs>=17.3.0 in c:\\users\\liebs\\pycharmprojects\\imageanalysisnbc2025\\.venv\\lib\\site-packages (from aiohttp<4->ome-zarr>=0.6.1->aicsimageio==4.14.0) (25.3.0)\n",
      "Requirement already satisfied: frozenlist>=1.1.1 in c:\\users\\liebs\\pycharmprojects\\imageanalysisnbc2025\\.venv\\lib\\site-packages (from aiohttp<4->ome-zarr>=0.6.1->aicsimageio==4.14.0) (1.5.0)\n",
      "Requirement already satisfied: multidict<7.0,>=4.5 in c:\\users\\liebs\\pycharmprojects\\imageanalysisnbc2025\\.venv\\lib\\site-packages (from aiohttp<4->ome-zarr>=0.6.1->aicsimageio==4.14.0) (6.4.3)\n",
      "Requirement already satisfied: propcache>=0.2.0 in c:\\users\\liebs\\pycharmprojects\\imageanalysisnbc2025\\.venv\\lib\\site-packages (from aiohttp<4->ome-zarr>=0.6.1->aicsimageio==4.14.0) (0.3.1)\n",
      "Requirement already satisfied: yarl<2.0,>=1.17.0 in c:\\users\\liebs\\pycharmprojects\\imageanalysisnbc2025\\.venv\\lib\\site-packages (from aiohttp<4->ome-zarr>=0.6.1->aicsimageio==4.14.0) (1.20.0)\n",
      "Requirement already satisfied: idna>=2.0 in c:\\users\\liebs\\pycharmprojects\\imageanalysisnbc2025\\.venv\\lib\\site-packages (from yarl<2.0,>=1.17.0->aiohttp<4->ome-zarr>=0.6.1->aicsimageio==4.14.0) (3.10)\n",
      "Requirement already satisfied: s3fs in c:\\users\\liebs\\pycharmprojects\\imageanalysisnbc2025\\.venv\\lib\\site-packages (from fsspec[s3]!=2021.07.0,!=2023.9.0,>=0.8->ome-zarr>=0.6.1->aicsimageio==4.14.0) (2023.6.0)\n",
      "Requirement already satisfied: locket in c:\\users\\liebs\\pycharmprojects\\imageanalysisnbc2025\\.venv\\lib\\site-packages (from partd>=1.4.0->dask>=2021.4.1->dask[array]>=2021.4.1->aicsimageio==4.14.0) (1.0.0)\n",
      "Requirement already satisfied: annotated-types>=0.6.0 in c:\\users\\liebs\\pycharmprojects\\imageanalysisnbc2025\\.venv\\lib\\site-packages (from pydantic>=2.4->ome-types>=0.3.4->aicsimageio==4.14.0) (0.7.0)\n",
      "Requirement already satisfied: pydantic-core==2.33.1 in c:\\users\\liebs\\pycharmprojects\\imageanalysisnbc2025\\.venv\\lib\\site-packages (from pydantic>=2.4->ome-types>=0.3.4->aicsimageio==4.14.0) (2.33.1)\n",
      "Requirement already satisfied: typing-inspection>=0.4.0 in c:\\users\\liebs\\pycharmprojects\\imageanalysisnbc2025\\.venv\\lib\\site-packages (from pydantic>=2.4->ome-types>=0.3.4->aicsimageio==4.14.0) (0.4.0)\n",
      "Requirement already satisfied: pandas>=2.1 in c:\\users\\liebs\\pycharmprojects\\imageanalysisnbc2025\\.venv\\lib\\site-packages (from xarray>=0.16.1->aicsimageio==4.14.0) (2.2.3)\n",
      "Requirement already satisfied: python-dateutil>=2.8.2 in c:\\users\\liebs\\pycharmprojects\\imageanalysisnbc2025\\.venv\\lib\\site-packages (from pandas>=2.1->xarray>=0.16.1->aicsimageio==4.14.0) (2.9.0.post0)\n",
      "Requirement already satisfied: pytz>=2020.1 in c:\\users\\liebs\\pycharmprojects\\imageanalysisnbc2025\\.venv\\lib\\site-packages (from pandas>=2.1->xarray>=0.16.1->aicsimageio==4.14.0) (2025.2)\n",
      "Requirement already satisfied: tzdata>=2022.7 in c:\\users\\liebs\\pycharmprojects\\imageanalysisnbc2025\\.venv\\lib\\site-packages (from pandas>=2.1->xarray>=0.16.1->aicsimageio==4.14.0) (2025.2)\n",
      "Requirement already satisfied: six>=1.5 in c:\\users\\liebs\\pycharmprojects\\imageanalysisnbc2025\\.venv\\lib\\site-packages (from python-dateutil>=2.8.2->pandas>=2.1->xarray>=0.16.1->aicsimageio==4.14.0) (1.17.0)\n",
      "Requirement already satisfied: jinja2>=2.10.3 in c:\\users\\liebs\\pycharmprojects\\imageanalysisnbc2025\\.venv\\lib\\site-packages (from distributed->ome-zarr>=0.6.1->aicsimageio==4.14.0) (3.1.6)\n",
      "Requirement already satisfied: msgpack>=1.0.2 in c:\\users\\liebs\\pycharmprojects\\imageanalysisnbc2025\\.venv\\lib\\site-packages (from distributed->ome-zarr>=0.6.1->aicsimageio==4.14.0) (1.1.0)\n",
      "Requirement already satisfied: psutil>=5.8.0 in c:\\users\\liebs\\pycharmprojects\\imageanalysisnbc2025\\.venv\\lib\\site-packages (from distributed->ome-zarr>=0.6.1->aicsimageio==4.14.0) (7.0.0)\n",
      "Requirement already satisfied: sortedcontainers>=2.0.5 in c:\\users\\liebs\\pycharmprojects\\imageanalysisnbc2025\\.venv\\lib\\site-packages (from distributed->ome-zarr>=0.6.1->aicsimageio==4.14.0) (2.4.0)\n",
      "Requirement already satisfied: tblib>=1.6.0 in c:\\users\\liebs\\pycharmprojects\\imageanalysisnbc2025\\.venv\\lib\\site-packages (from distributed->ome-zarr>=0.6.1->aicsimageio==4.14.0) (3.1.0)\n",
      "Requirement already satisfied: tornado>=6.2.0 in c:\\users\\liebs\\pycharmprojects\\imageanalysisnbc2025\\.venv\\lib\\site-packages (from distributed->ome-zarr>=0.6.1->aicsimageio==4.14.0) (6.4.2)\n",
      "Requirement already satisfied: urllib3>=1.26.5 in c:\\users\\liebs\\pycharmprojects\\imageanalysisnbc2025\\.venv\\lib\\site-packages (from distributed->ome-zarr>=0.6.1->aicsimageio==4.14.0) (1.26.20)\n",
      "Requirement already satisfied: zict>=3.0.0 in c:\\users\\liebs\\pycharmprojects\\imageanalysisnbc2025\\.venv\\lib\\site-packages (from distributed->ome-zarr>=0.6.1->aicsimageio==4.14.0) (3.0.0)\n",
      "Requirement already satisfied: MarkupSafe>=2.0 in c:\\users\\liebs\\pycharmprojects\\imageanalysisnbc2025\\.venv\\lib\\site-packages (from jinja2>=2.10.3->distributed->ome-zarr>=0.6.1->aicsimageio==4.14.0) (3.0.2)\n",
      "Requirement already satisfied: charset-normalizer<4,>=2 in c:\\users\\liebs\\pycharmprojects\\imageanalysisnbc2025\\.venv\\lib\\site-packages (from requests->ome-zarr>=0.6.1->aicsimageio==4.14.0) (3.4.1)\n",
      "Requirement already satisfied: certifi>=2017.4.17 in c:\\users\\liebs\\pycharmprojects\\imageanalysisnbc2025\\.venv\\lib\\site-packages (from requests->ome-zarr>=0.6.1->aicsimageio==4.14.0) (2025.1.31)\n",
      "Requirement already satisfied: aiobotocore~=2.5.0 in c:\\users\\liebs\\pycharmprojects\\imageanalysisnbc2025\\.venv\\lib\\site-packages (from s3fs->fsspec[s3]!=2021.07.0,!=2023.9.0,>=0.8->ome-zarr>=0.6.1->aicsimageio==4.14.0) (2.5.4)\n",
      "Requirement already satisfied: botocore<1.31.18,>=1.31.17 in c:\\users\\liebs\\pycharmprojects\\imageanalysisnbc2025\\.venv\\lib\\site-packages (from aiobotocore~=2.5.0->s3fs->fsspec[s3]!=2021.07.0,!=2023.9.0,>=0.8->ome-zarr>=0.6.1->aicsimageio==4.14.0) (1.31.17)\n",
      "Requirement already satisfied: aioitertools<1.0.0,>=0.5.1 in c:\\users\\liebs\\pycharmprojects\\imageanalysisnbc2025\\.venv\\lib\\site-packages (from aiobotocore~=2.5.0->s3fs->fsspec[s3]!=2021.07.0,!=2023.9.0,>=0.8->ome-zarr>=0.6.1->aicsimageio==4.14.0) (0.12.0)\n",
      "Requirement already satisfied: jmespath<2.0.0,>=0.7.1 in c:\\users\\liebs\\pycharmprojects\\imageanalysisnbc2025\\.venv\\lib\\site-packages (from botocore<1.31.18,>=1.31.17->aiobotocore~=2.5.0->s3fs->fsspec[s3]!=2021.07.0,!=2023.9.0,>=0.8->ome-zarr>=0.6.1->aicsimageio==4.14.0) (1.0.1)\n",
      "Requirement already satisfied: scipy>=1.11.4 in c:\\users\\liebs\\pycharmprojects\\imageanalysisnbc2025\\.venv\\lib\\site-packages (from scikit-image->ome-zarr>=0.6.1->aicsimageio==4.14.0) (1.15.2)\n",
      "Requirement already satisfied: networkx>=3.0 in c:\\users\\liebs\\pycharmprojects\\imageanalysisnbc2025\\.venv\\lib\\site-packages (from scikit-image->ome-zarr>=0.6.1->aicsimageio==4.14.0) (3.4.2)\n",
      "Requirement already satisfied: pillow>=10.1 in c:\\users\\liebs\\pycharmprojects\\imageanalysisnbc2025\\.venv\\lib\\site-packages (from scikit-image->ome-zarr>=0.6.1->aicsimageio==4.14.0) (11.2.1)\n",
      "Requirement already satisfied: imageio!=2.35.0,>=2.33 in c:\\users\\liebs\\pycharmprojects\\imageanalysisnbc2025\\.venv\\lib\\site-packages (from scikit-image->ome-zarr>=0.6.1->aicsimageio==4.14.0) (2.37.0)\n",
      "Requirement already satisfied: lazy-loader>=0.4 in c:\\users\\liebs\\pycharmprojects\\imageanalysisnbc2025\\.venv\\lib\\site-packages (from scikit-image->ome-zarr>=0.6.1->aicsimageio==4.14.0) (0.4)\n",
      "Requirement already satisfied: elementpath<6.0.0,>=4.8.0 in c:\\users\\liebs\\pycharmprojects\\imageanalysisnbc2025\\.venv\\lib\\site-packages (from xmlschema->aicsimageio==4.14.0) (4.8.0)\n",
      "Note: you may need to restart the kernel to use updated packages.\n"
     ]
    }
   ],
   "execution_count": 2
  },
  {
   "metadata": {},
   "cell_type": "markdown",
   "source": "next we will import the packages that we need, with \"import\" entire packages can be used, with \"from ... import\" parts can be used and with \"...as\" we can define an acronym to be used for functions from the package",
   "id": "40f38c5caf7f5e22"
  },
  {
   "metadata": {
    "ExecuteTime": {
     "end_time": "2025-05-06T21:40:26.530462Z",
     "start_time": "2025-05-06T21:40:19.207577Z"
    }
   },
   "cell_type": "code",
   "source": [
    "from matplotlib import pyplot as plt\n",
    "from aicsimageio import AICSImage"
   ],
   "id": "aae72af4b7b5836c",
   "outputs": [],
   "execution_count": 3
  },
  {
   "metadata": {},
   "cell_type": "markdown",
   "source": [
    "## Load and Display an Image\n",
    "Loading a sample image and displaying it using matplotlib"
   ],
   "id": "4e21e1a7f2e3e3d"
  },
  {
   "metadata": {
    "ExecuteTime": {
     "end_time": "2025-05-06T21:40:29.958297Z",
     "start_time": "2025-05-06T21:40:29.737019Z"
    }
   },
   "cell_type": "code",
   "source": [
    "img = AICSImage('../data/artificial/test_3col.tif')\n",
    "data = img.get_image_data(\"TZCYX\")  # Choose the correct dimension order\n",
    "data.shape"
   ],
   "id": "b2b32ff9f9a7f606",
   "outputs": [
    {
     "data": {
      "text/plain": [
       "(1, 1, 3, 1500, 1500)"
      ]
     },
     "execution_count": 4,
     "metadata": {},
     "output_type": "execute_result"
    }
   ],
   "execution_count": 4
  },
  {
   "metadata": {},
   "cell_type": "markdown",
   "source": [
    "## Basic Image Transformations\n",
    "Performing basic image manipulations like rotation, resizing, and cropping"
   ],
   "id": "20c00a689ecc112d"
  },
  {
   "metadata": {
    "ExecuteTime": {
     "end_time": "2025-05-06T21:40:39.627014Z",
     "start_time": "2025-05-06T21:40:36.198582Z"
    }
   },
   "cell_type": "code",
   "source": [
    "# Pick the first timepoint and z-slice\n",
    "t_index = 0\n",
    "z_index = 0\n",
    "\n",
    "# Extract each channel slice (assume 3 channels, for example)\n",
    "channel_0 = data[t_index, z_index, 0, :, :]\n",
    "channel_1 = data[t_index, z_index, 1, :, :]\n",
    "channel_2 = data[t_index, z_index, 2, :, :]\n",
    "\n",
    "# make a quick figure to display individual channels\n",
    "fig, axes = plt.subplots(1, 3, figsize=(12, 4))\n",
    "\n",
    "axes[0].imshow(channel_0, cmap='gray')\n",
    "axes[0].set_title(\"Channel 0\")\n",
    "\n",
    "axes[1].imshow(channel_1, cmap='gray')\n",
    "axes[1].set_title(\"Channel 1\")\n",
    "\n",
    "axes[2].imshow(channel_2, cmap='gray')\n",
    "axes[2].set_title(\"Channel 2\")\n",
    "\n",
    "plt.tight_layout()\n",
    "plt.show()"
   ],
   "id": "1af1254bea8fd002",
   "outputs": [
    {
     "data": {
      "text/plain": [
       "<Figure size 1200x400 with 3 Axes>"
      ],
      "image/png": "[encoded data removed]"
     },
     "metadata": {},
     "output_type": "display_data"
    }
   ],
   "execution_count": 5
  }
 ],
 "metadata": {
  "kernelspec": {
   "display_name": "Python 3",
   "language": "python",
   "name": "python3"
  },
  "language_info": {
   "codemirror_mode": {
    "name": "ipython",
    "version": 2
   },
   "file_extension": ".py",
   "mimetype": "text/x-python",
   "name": "python",
   "nbconvert_exporter": "python",
   "pygments_lexer": "ipython2",
   "version": "2.7.6"
  }
 },
 "nbformat": 4,
 "nbformat_minor": 5
}
