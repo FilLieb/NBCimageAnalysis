{
 "cells": [
  {
   "metadata": {},
   "cell_type": "markdown",
   "source": [
    "# image segmentation in python\n",
    "a notebook to learn a few basics about image segmentation"
   ],
   "id": "353c15ffa1344cc4"
  },
  {
   "metadata": {},
   "cell_type": "code",
   "source": [
    "from matplotlib import pyplot as plt\n",
    "from aicsimageio import AICSImage\n",
    "from skimage import filters\n",
    "from skimage.filters import try_all_threshold"
   ],
   "id": "7cabb09758821a98",
   "outputs": [],
   "execution_count": null
  },
  {
   "metadata": {},
   "cell_type": "markdown",
   "source": "as before we will load the same gephyrin image",
   "id": "227ace206c6e85dc"
  },
  {
   "metadata": {},
   "cell_type": "code",
   "source": [
    "# load an nd2 file\n",
    "img = AICSImage('../data/nd2/WT_001.nd2')\n",
    "data = img.get_image_data(\"TCZYX\")  # Choose the correct dimension order\n",
    "\n",
    "# Pick the first timepoint and z-slice\n",
    "t_index = 0\n",
    "z_index = 0\n",
    "\n",
    "\n",
    "# Extract each channel slice (assume 3 channels, for example)\n",
    "channel_0 = data[t_index, 0, z_index, :, :]\n",
    "channel_1 = data[t_index, 1, z_index, :, :]\n",
    "channel_2 = data[t_index, 2, z_index, :, :]\n",
    "\n",
    "gphn = channel_0\n",
    "plt.imshow(gphn, cmap='Greys')"
   ],
   "id": "24366e06faac383f",
   "outputs": [],
   "execution_count": null
  },
  {
   "metadata": {},
   "cell_type": "markdown",
   "source": "to separate the image into foreground and background, we need to define a cutoff intensity value",
   "id": "b372f0d0f5fb4159"
  },
  {
   "metadata": {},
   "cell_type": "code",
   "source": [
    "threshold = 400\n",
    "\n",
    "binary_image = gphn >= threshold\n",
    "\n",
    "plt.imshow(binary_image, cmap='Greys')"
   ],
   "id": "4db12ed14f432f2e",
   "outputs": [],
   "execution_count": null
  },
  {
   "metadata": {},
   "cell_type": "markdown",
   "source": "there are many algorithms that can be used to calculate the threshold value, e.g. \"Otsu\" is one method",
   "id": "32718a7b342c4076"
  },
  {
   "metadata": {},
   "cell_type": "code",
   "source": [
    "threshold = filters.threshold_otsu(gphn)\n",
    "\n",
    "threshold"
   ],
   "id": "1e3c01a62de37f9a",
   "outputs": [],
   "execution_count": null
  },
  {
   "metadata": {},
   "cell_type": "markdown",
   "source": "as before we can use this computed value instead of an arbitrary chosen one to binarize the image",
   "id": "cead4e15365206b7"
  },
  {
   "metadata": {},
   "cell_type": "code",
   "source": [
    "binary_image = gphn >= threshold\n",
    "\n",
    "plt.imshow(binary_image, cmap='Greys')"
   ],
   "id": "ae9da732d844b893",
   "outputs": [],
   "execution_count": null
  },
  {
   "metadata": {},
   "cell_type": "markdown",
   "source": "in order to test how well this worked, we can plot the contour of the binary image onto the original",
   "id": "ca19af2b5bb80614"
  },
  {
   "metadata": {},
   "cell_type": "code",
   "source": [
    "# create a new plot\n",
    "fig, axes = plt.subplots(1,1)\n",
    "\n",
    "# add two images\n",
    "axes.imshow(gphn, cmap=plt.cm.gray)\n",
    "axes.contour(binary_image, [0.5], linewidths=1.2, colors='r')"
   ],
   "id": "118a28897f2f486d",
   "outputs": [],
   "execution_count": null
  },
  {
   "metadata": {},
   "cell_type": "markdown",
   "source": "we can test multiple thresholding methods to see how they display diffrent properties of the original image",
   "id": "4aec22f1f4274891"
  },
  {
   "metadata": {},
   "cell_type": "code",
   "source": [
    "fig, ax = try_all_threshold(gphn, figsize=(10, 8), verbose=False)\n",
    "plt.show()"
   ],
   "id": "1ed4fe703b4d8a05",
   "outputs": [],
   "execution_count": null
  },
  {
   "metadata": {},
   "cell_type": "markdown",
   "source": "finally we can test how image preprocessing can affect thresholding",
   "id": "a0d82672ace2e933"
  },
  {
   "metadata": {},
   "cell_type": "code",
   "source": [
    "def sub_to_zero(a, b):\n",
    "    # Element-wise subtraction and maximum with zero\n",
    "    return np.maximum(a - b, 0)\n",
    "\n",
    "\n",
    "# Process Gphn channel (Difference of Gaussian)\n",
    "low = gaussian(gphn, sigma=2, preserve_range=True)\n",
    "high = gaussian(gphn, sigma=10, preserve_range=True)\n",
    "\n",
    "dog = sub_to_zero(low,high)\n",
    "\n",
    "fig, ax = try_all_threshold(dog, figsize=(10, 8), verbose=False)\n",
    "plt.show()"
   ],
   "id": "c81c7674cf53d901",
   "outputs": [],
   "execution_count": null
  },
  {
   "metadata": {},
   "cell_type": "markdown",
   "source": "let's pick Otsu compare the effect of preprocessing",
   "id": "ecb8ce1e242a7e46"
  },
  {
   "metadata": {},
   "cell_type": "code",
   "source": [
    "threshold = filters.threshold_otsu(gphn)\n",
    "binary_image = gphn >= threshold\n",
    "\n",
    "threshold_dog = filters.threshold_otsu(dog)\n",
    "binary_image_dog = dog >= threshold\n",
    "\n",
    "\n",
    "\n",
    "fig, axes = plt.subplots(1, 2, figsize=(12, 4))\n",
    "\n",
    "axes[0].imshow(gphn, cmap=plt.cm.gray)\n",
    "axes[0].contour(binary_image, [0.5], linewidths=1.2, colors='r')\n",
    "axes[0].set_title(\"threshold on original\")\n",
    "\n",
    "axes[1].imshow(gphn, cmap=plt.cm.gray)\n",
    "axes[1].contour(binary_image_dog, [0.5], linewidths=1.2, colors='r')\n",
    "axes[1].set_title(\"threshold on DoG\")\n",
    "\n",
    "plt.tight_layout()\n",
    "plt.show()\n"
   ],
   "id": "fa14daf8ca8fad60",
   "outputs": [],
   "execution_count": null
  }
 ],
 "metadata": {
  "kernelspec": {
   "display_name": "Python 3",
   "language": "python",
   "name": "python3"
  },
  "language_info": {
   "codemirror_mode": {
    "name": "ipython",
    "version": 2
   },
   "file_extension": ".py",
   "mimetype": "text/x-python",
   "name": "python",
   "nbconvert_exporter": "python",
   "pygments_lexer": "ipython2",
   "version": "2.7.6"
  }
 },
 "nbformat": 4,
 "nbformat_minor": 5
}
